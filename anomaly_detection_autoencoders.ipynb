{
 "cells": [
  {
   "cell_type": "markdown",
   "metadata": {},
   "source": [
    "Importing the modules we will need for this exercise"
   ]
  },
  {
   "cell_type": "code",
   "execution_count": 1,
   "metadata": {},
   "outputs": [
    {
     "name": "stderr",
     "output_type": "stream",
     "text": [
      "/Users/mayank/anaconda/lib/python3.6/importlib/_bootstrap.py:219: RuntimeWarning: numpy.dtype size changed, may indicate binary incompatibility. Expected 96, got 88\n",
      "  return f(*args, **kwds)\n",
      "/Users/mayank/anaconda/lib/python3.6/importlib/_bootstrap.py:219: RuntimeWarning: numpy.dtype size changed, may indicate binary incompatibility. Expected 96, got 88\n",
      "  return f(*args, **kwds)\n",
      "/Users/mayank/anaconda/lib/python3.6/importlib/_bootstrap.py:219: RuntimeWarning: numpy.dtype size changed, may indicate binary incompatibility. Expected 96, got 88\n",
      "  return f(*args, **kwds)\n",
      "/Users/mayank/anaconda/lib/python3.6/importlib/_bootstrap.py:219: RuntimeWarning: numpy.dtype size changed, may indicate binary incompatibility. Expected 96, got 88\n",
      "  return f(*args, **kwds)\n",
      "/Users/mayank/anaconda/lib/python3.6/importlib/_bootstrap.py:219: RuntimeWarning: numpy.dtype size changed, may indicate binary incompatibility. Expected 96, got 88\n",
      "  return f(*args, **kwds)\n",
      "Using TensorFlow backend.\n"
     ]
    }
   ],
   "source": [
    "import numpy as np\n",
    "from pandas.plotting import scatter_matrix\n",
    "import pandas as pd\n",
    "import pickle\n",
    "import matplotlib.pyplot as plt\n",
    "from scipy import stats\n",
    "import tensorflow as tf\n",
    "import seaborn as sns\n",
    "from pylab import rcParams\n",
    "from sklearn.model_selection import train_test_split\n",
    "from sklearn.linear_model import LogisticRegression\n",
    "from sklearn.metrics import mean_squared_error\n",
    "import h5py\n",
    "from keras.models import Model, load_model\n",
    "from keras.layers import Input, Dense, Dropout, BatchNormalization\n",
    "from keras.callbacks import ModelCheckpoint, EarlyStopping\n",
    "from keras import regularizers\n",
    "%matplotlib inline\n",
    "sns.set(style='whitegrid', palette='muted', font_scale=1.5)\n",
    "RANDOM_SEED = 42\n",
    "LABELS = [\"Normal\", \"Fraud\"]\n",
    "from sklearn import preprocessing\n",
    "import IPython\n",
    "from sklearn.preprocessing import StandardScaler\n",
    "from sklearn.metrics import (confusion_matrix, auc, roc_curve, cohen_kappa_score, accuracy_score)"
   ]
  },
  {
   "cell_type": "markdown",
   "metadata": {},
   "source": [
    "# Project data and step-by-step instructions\n",
    "\n",
    "The goal of this project is to to detect illegitimate connections in a computer network using an **autoencoder** \n",
    "\n",
    "## Data set description\n",
    "\n",
    "Data set for this project is from [The Third International Knowledge Discovery and Data Mining Tools Competition](http://kdd.ics.uci.edu/databases/kddcup99/kddcup99.html) at KDD-99, The Fifth International Conference on Knowledge Discovery and Data Mining. File `kddCupTrain.csv` with the data necessary for this project contains only one of multiple types of attacks (see below).  \n",
    "\n",
    "The competition [task](http://kdd.ics.uci.edu/databases/kddcup99/task.html) was building a network intrusion detector capable of distinguishing \"bad\" connections, called intrusions or attacks, from \"good\" normal connections. This database contains a variety of intrusions simulated in a military network environment.\n",
    "\n",
    "The original KDD training dataset consists of approximately 4,900,000 single connection vectors each of which contains 41 features and is labeled as either normal or an attack, with exactly one specific attack type. The simulated attacks fall in one of the following four categories:\n",
    "1. Denial of Service Attack (DoS): is an attack in which the attacker makes some computing or memory resource too busy or too full to handle legitimate requests, or denies legitimate users access to a machine.\n",
    "2. User to Root Attack (U2R): is a class in which the attacker starts out with access to a normal user account on the system (perhaps gained by sniffing passwords, a dictionary attack, or social engineering) and is able to exploit some vulnerability to gain root access to the system.\n",
    "3. Remote to Local Attack (R2L): occurs when an attacker who has the ability to send packets to a machine over a network but who does not have an account on that machine exploits some vulnerability to gain local access as a user of that machine.\n",
    "4. Probing Attack: is an attempt to gather information about a network of computers for the apparent purpose of circumventing its security controls.\n",
    "\n",
    "\n",
    "Attacks contained in the dataset: \n",
    "\n",
    "Attack Category | Attack Type\n",
    "--- | ---\n",
    "DoS | back, land, neptune, <br>pod, smurf, teardrop\n",
    "U2R | buffer_overflow, loadmodule, <br>perl, rootkit\n",
    "R2L | ftp_write, guess_passwd, <br>imap, multihop, rhf, <br>spy, warezclient, warezmaster\n",
    "Probe | portsweep, ipsweep, <br>satan, nmap\n",
    "\n",
    "\n"
   ]
  },
  {
   "cell_type": "markdown",
   "metadata": {},
   "source": [
    "KDD-99 features can be classified into three groups:  \n",
    "1) **Basic features**: this category encapsulates all the attributes that can be extracted from a TCP/IP connection. Most of these features leading to an implicit delay in detection.  \n",
    "2) **Traffic features**: this category includes features that are computed with respect to a window interval and is divided into two groups:\n",
    "* **\"same host\" features**: examine only the connections in the past 2 seconds that have the same destination host as the current connection, and calculate statistics related to protocol behavior, service, etc.\n",
    "* **\"same service\" features**: examine only the connections in the past 2 seconds that have the same service as the current connection.  \n",
    "\n",
    "These two types of \"traffic\" features are called time-based as opposed to the following connection-based type. \n",
    "\n",
    "* **\"connection-based\" features**: there are several types of slow probing attacks that scan the hosts (or ports) using a much larger time interval than 2 seconds, for example, one in every minute. As a result, these attacks do not produce intrusion patterns with a time window of 2 seconds. To detect such attacks the “same host” and “same service” features are  recalculated but based on the connection window of 100 connections rather than a time window of 2 seconds. These features are called **connection-based traffic features**.  \n",
    "\n",
    "3) **Content features**: unlike most of the DoS and Probing attacks, the R2L and U2R attacks don’t have any frequent sequential intrusion patterns. This is because the DoS and Probing attacks involve many connections to some host(s) in a very short period of time. Unlike them, the R2L and U2R attacks are embedded in the data portions of the packets, and normally involve only a single connection. To detect these kinds of attacks, one needs some features in order to look for suspicious behavior in the data portion, e.g., number of failed login attempts. These features are called **content features**."
   ]
  },
  {
   "cell_type": "markdown",
   "metadata": {},
   "source": [
    "#### Table 1: Basic features of individual TCP connections.\n",
    "nn | feature name |\tdescription |\ttype\n",
    "--:|------------|-----------|-----------\n",
    "0 | duration | length (number of seconds) of the connection |\tcontinuous\n",
    "1 | protocol_type |\ttype of the protocol, e.g. tcp, udp, etc. |\tsymbolic\n",
    "2 | service |\tnetwork service on the destination, e.g., http, telnet, etc. |\tsymbolic\n",
    "3 | flag |\tnormal or error status of the connection |\tsymbolic \n",
    "4 | src_bytes |\tnumber of data bytes from source to destination |\tcontinuous\n",
    "5 | dst_bytes |\tnumber of data bytes from destination to source |\tcontinuous\n",
    "6 | land |\t1 if connection is from/to the same host/port; 0 otherwise |\tbinary\n",
    "7 | wrong_fragment |\tnumber of \"wrong\" fragments |\tcontinuous\n",
    "8 | urgent |\tnumber of urgent packets |\tcontinuous"
   ]
  },
  {
   "cell_type": "markdown",
   "metadata": {},
   "source": [
    "#### Table 2: Content features within a connection suggested by domain knowledge.\n",
    "nn | feature name |\tdescription |\ttype\n",
    "---:|------------ | ------------ | --------\n",
    "9 | hot |\tnumber of \"hot\" indicators |\tcontinuous\n",
    "10 | num_failed_logins |\tnumber of failed login attempts |\tcontinuous\n",
    "11 | logged_in |\t1 if successfully logged in; 0 otherwise |\tbinary\n",
    "12 | num_compromised |\tnumber of \"compromised\" conditions |\tcontinuous\n",
    "13 | root_shell |\t1 if root shell is obtained; 0 otherwise |\tbinary\n",
    "14 | su_attempted |\t1 if \"su root\" command attempted; 0 otherwise |\tbinary\n",
    "15 | num_root |\tnumber of \"root\" accesses |\tcontinuous\n",
    "16 | num_file_creations |\tnumber of file creation operations |\tcontinuous\n",
    "17 | num_shells |\tnumber of shell prompts |\tcontinuous\n",
    "18 | num_access_files |\tnumber of operations on access control files |\tcontinuous\n",
    "19 | num_outbound_cmds |\tnumber of outbound commands in an ftp session |\tcontinuous\n",
    "20 | is_hot_login |\t1 if the login belongs to the \"hot\" list; 0 otherwise |\tbinary\n",
    "21 | is_guest_login |\t1 if the login is a \"guest\" login; 0 otherwise |\tbinary"
   ]
  },
  {
   "cell_type": "markdown",
   "metadata": {},
   "source": [
    "#### Table 3: Traffic features computed using a two-second time window.\n",
    "nn  | feature name |\tdescription |\ttype\n",
    "---:|------------ | ------------ | --------\n",
    "22 | count |\tnumber of connections to the same host as the current connection in the past two seconds |\tcontinuous\n",
    " | | Note: The following  features refer to these same-host connections.\t|\n",
    "23 | serror_rate |\t% of connections that have \"SYN\" errors |\tcontinuous\n",
    "24 | rerror_rate |\t% of connections that have \"REJ\" errors |\tcontinuous\n",
    "25 | same_srv_rate |\t% of connections to the same service |\tcontinuous\n",
    "26 | diff_srv_rate |\t% of connections to different services |\tcontinuous\n",
    "27 | srv_count |\tnumber of connections to the same service as the current connection in the past two seconds |\tcontinuous\n",
    " |  | Note: The following features refer to these same-service connections.\t|\n",
    "28 | srv_serror_rate |\t% of connections that have \"SYN\" errors |\tcontinuous\n",
    "29 | srv_rerror_rate |\t% of connections that have \"REJ\" errors |\tcontinuous\n",
    "30 | srv_diff_host_rate |\t% of connections to different hosts |\tcontinuous\n",
    "31 | dst_host_count |\tnumber of connections from the same address to the same host as the current connection in the past two seconds |\tcontinuous\n",
    "32 | dst_host_srv_count | number of connections from the same host to the same service as the current connection in the past two seconds | continuous\n",
    " |  | Note: The following features refer to these same-host and same-service connections.\t|\n",
    "33 | dst_host_same_srv_rate | |\tcontinuous\n",
    "34 | dst_host_diff_srv_rate | |\tcontinuous\n",
    "35 | dst_host_same_src_port_rate | |\tcontinuous\n",
    "36 | dst_host_srv_diff_host_rate | |\tcontinuous\n",
    "37 | dst_host_serror_rate | |\tcontinuous\n",
    "38 | dst_host_srv_serror_rate | |\tcontinuous\n",
    "39 | dst_host_rerror_rate | |\tcontinuous\n",
    "40 | dst_host_srv_rerror_rate | |\tcontinuous"
   ]
  },
  {
   "cell_type": "markdown",
   "metadata": {},
   "source": [
    "The attribute labeled **41** in the data set is the **\"Class\"** attribute which indicates whether a given instance is a normal connection instance or an attack."
   ]
  },
  {
   "cell_type": "markdown",
   "metadata": {},
   "source": [
    "## Preparing the data set\n",
    "\n",
    "### Reading the data set\n",
    "\n",
    "And checking if the data set has any missing values"
   ]
  },
  {
   "cell_type": "code",
   "execution_count": 2,
   "metadata": {},
   "outputs": [
    {
     "name": "stdout",
     "output_type": "stream",
     "text": [
      "Shape of kddCupTrain:  (985262, 42)\n",
      "There are any missing values:  False\n",
      "   0    1     2   3    4      5   6   7   8   9    ...     32   33   34   35  \\\n",
      "0   0  tcp  http  SF  215  45076   0   0   0   0   ...      0  0.0  0.0  0.0   \n",
      "1   0  tcp  http  SF  162   4528   0   0   0   0   ...      1  1.0  0.0  1.0   \n",
      "2   0  tcp  http  SF  236   1228   0   0   0   0   ...      2  1.0  0.0  0.5   \n",
      "\n",
      "    36   37   38   39   40       41  \n",
      "0  0.0  0.0  0.0  0.0  0.0  normal.  \n",
      "1  0.0  0.0  0.0  0.0  0.0  normal.  \n",
      "2  0.0  0.0  0.0  0.0  0.0  normal.  \n",
      "\n",
      "[3 rows x 42 columns]\n"
     ]
    }
   ],
   "source": [
    "kddCupTrain = pd.read_csv('kddCupTrain.csv',header=None)\n",
    "print(\"Shape of kddCupTrain: \",kddCupTrain.shape)\n",
    "print(\"There are any missing values: \", kddCupTrain.isnull().values.any())\n",
    "print(kddCupTrain.head(3))"
   ]
  },
  {
   "cell_type": "markdown",
   "metadata": {},
   "source": [
    "The train dataset contains instances of only two class types from the [original](http://kdd.ics.uci.edu/databases/kddcup99/kddcup99.html) data: \n",
    "- \"normal.\" - no attack\n",
    "- \"ipsweep.\" - a subtype of \"probe\" or Probing Attack type.  "
   ]
  },
  {
   "cell_type": "code",
   "execution_count": 3,
   "metadata": {},
   "outputs": [
    {
     "data": {
      "text/plain": [
       "array(['normal.', 'ipsweep.'], dtype=object)"
      ]
     },
     "execution_count": 3,
     "metadata": {},
     "output_type": "execute_result"
    }
   ],
   "source": [
    "kddCupTrain.iloc[:,-1].unique()"
   ]
  },
  {
   "cell_type": "markdown",
   "metadata": {},
   "source": [
    "Thus, we can see that we have to just formulate a binary classification model here, we will try to do this through auto-encoders"
   ]
  },
  {
   "cell_type": "markdown",
   "metadata": {},
   "source": [
    "Rename column '41' to 'Class' and transform its values from symbolic type fo binary:  \n",
    "- \"normal.\" to 0  \n",
    "- \"ipsweep.\" to 1"
   ]
  },
  {
   "cell_type": "code",
   "execution_count": 4,
   "metadata": {
    "collapsed": true
   },
   "outputs": [],
   "source": [
    "kddCupTrain.rename(columns={41:'Class'}, inplace=True)\n",
    "kddCupTrain['Class'] = np.where(kddCupTrain['Class'] == 'normal.', 0, 1)"
   ]
  },
  {
   "cell_type": "markdown",
   "metadata": {},
   "source": [
    "Check counts of classes."
   ]
  },
  {
   "cell_type": "code",
   "execution_count": 5,
   "metadata": {},
   "outputs": [
    {
     "name": "stdout",
     "output_type": "stream",
     "text": [
      "0    972781\n",
      "1     12481\n",
      "Name: Class, dtype: int64\n"
     ]
    }
   ],
   "source": [
    "count_classes = pd.value_counts(kddCupTrain['Class'], sort = True)\n",
    "print(count_classes)"
   ]
  },
  {
   "cell_type": "markdown",
   "metadata": {},
   "source": [
    "The dataset is highly imbalanced. Normal connections overwhelmingly outnumber fraudulent ones. \n",
    "This suggests using an autoencoder to detect attacks as rare deviations from normal.\n",
    "\n",
    "Checking the distribution of the classes"
   ]
  },
  {
   "cell_type": "code",
   "execution_count": 6,
   "metadata": {},
   "outputs": [
    {
     "data": {
      "image/png": "[encoded data removed]",
      "text/plain": [
       "<Figure size 576x396 with 1 Axes>"
      ]
     },
     "metadata": {},
     "output_type": "display_data"
    }
   ],
   "source": [
    "count_classes = pd.value_counts(kddCupTrain['Class'], sort = True)\n",
    "count_classes.plot(kind = 'bar', rot=0)\n",
    "rcParams['figure.figsize'] = 14, 8\n",
    "plt.title(\"Transaction class distribution\")\n",
    "plt.xticks(range(2), LABELS)\n",
    "plt.xlabel(\"Class\")\n",
    "plt.ylabel(\"Frequency\");"
   ]
  },
  {
   "cell_type": "markdown",
   "metadata": {},
   "source": [
    "#### Remove the uninformative columns\n",
    "\n",
    "Look at summaries of numeric features."
   ]
  },
  {
   "cell_type": "code",
   "execution_count": 7,
   "metadata": {},
   "outputs": [
    {
     "name": "stderr",
     "output_type": "stream",
     "text": [
      "ERROR:root:Line magic function `%matlplotlib` not found.\n"
     ]
    },
    {
     "name": "stdout",
     "output_type": "stream",
     "text": [
      "                   0             4             5              6         7  \\\n",
      "count  985262.000000  9.852620e+05  9.852620e+05  985262.000000  985262.0   \n",
      "mean      215.078631  1.459258e+03  3.193730e+03       0.000007       0.0   \n",
      "std      1343.633640  1.097984e+05  3.401613e+04       0.002665       0.0   \n",
      "min         0.000000  0.000000e+00  0.000000e+00       0.000000       0.0   \n",
      "50%         0.000000  2.300000e+02  4.060000e+02       0.000000       0.0   \n",
      "max     58329.000000  8.958152e+07  1.173059e+07       1.000000       0.0   \n",
      "\n",
      "                   8              9             10             11  \\\n",
      "count  985262.000000  985262.000000  985262.000000  985262.000000   \n",
      "mean        0.000036       0.048908       0.000097       0.710185   \n",
      "std         0.015897       0.926008       0.013058       0.453677   \n",
      "min         0.000000       0.000000       0.000000       0.000000   \n",
      "50%         0.000000       0.000000       0.000000       1.000000   \n",
      "max        14.000000      77.000000       4.000000       1.000000   \n",
      "\n",
      "                  12      ...                   32             33  \\\n",
      "count  985262.000000      ...        985262.000000  985262.000000   \n",
      "mean        0.037907      ...           201.430712       0.845963   \n",
      "std         8.598590      ...            87.382719       0.304934   \n",
      "min         0.000000      ...             0.000000       0.000000   \n",
      "50%         0.000000      ...           255.000000       1.000000   \n",
      "max      7479.000000      ...           255.000000       1.000000   \n",
      "\n",
      "                  34             35             36             37  \\\n",
      "count  985262.000000  985262.000000  985262.000000  985262.000000   \n",
      "mean        0.056712       0.145018       0.031659       0.002014   \n",
      "std         0.181323       0.295592       0.086754       0.028357   \n",
      "min         0.000000       0.000000       0.000000       0.000000   \n",
      "50%         0.000000       0.010000       0.010000       0.000000   \n",
      "max         1.000000       1.000000       1.000000       1.000000   \n",
      "\n",
      "                  38             39             40          Class  \n",
      "count  985262.000000  985262.000000  985262.000000  985262.000000  \n",
      "mean        0.001037       0.057911       0.056161       0.012668  \n",
      "std         0.015326       0.225341       0.219637       0.111836  \n",
      "min         0.000000       0.000000       0.000000       0.000000  \n",
      "50%         0.000000       0.000000       0.000000       0.000000  \n",
      "max         1.000000       1.000000       1.000000       1.000000  \n",
      "\n",
      "[6 rows x 39 columns]\n"
     ]
    }
   ],
   "source": [
    "%matlplotlib inline\n",
    "print(kddCupTrain.describe(percentiles=[]))"
   ]
  },
  {
   "cell_type": "markdown",
   "metadata": {},
   "source": [
    "Note that some features are constant (min = max and std = 0.0). Such features are not necessary and need to be removed using"
   ]
  },
  {
   "cell_type": "code",
   "execution_count": 8,
   "metadata": {},
   "outputs": [
    {
     "name": "stdout",
     "output_type": "stream",
     "text": [
      "[7, 19]\n"
     ]
    }
   ],
   "source": [
    "columnsList=[7, 19]\n",
    "print(columnsList)"
   ]
  },
  {
   "cell_type": "markdown",
   "metadata": {},
   "source": [
    "### Removing uninformative columns below"
   ]
  },
  {
   "cell_type": "code",
   "execution_count": 9,
   "metadata": {},
   "outputs": [],
   "source": [
    "kddCupTrain.drop(columnsList, axis=1, inplace=True)"
   ]
  },
  {
   "cell_type": "markdown",
   "metadata": {},
   "source": [
    "#### 1.3. Transform symbolic features to \"One Hot\" columns\n",
    "\n",
    "Transform character features \"1\", \"2\" and \"3\" into \"One Hot\" columns using `pandas.get_dummies()` .\n",
    "\n",
    "As a result, the first two rows of `kddCupTrain` should look like this:  \n",
    "\n",
    "|  0  |  4  |    5 | 6 | 8 | 9 | 10 | 11 | 12 | 13 | 14 | 15 | 16 | 17 | 18 | 20 | 21 | 22 | 23   \n",
    "--|--\n",
    "0 | 0 | 215 | 45076 | 0 | 0 | 0 |  0 |  1 |  0 |  0 |  0 |  0 |  0 |  0 |  0 |  0 |  0 |  1 | 1   \n",
    "1 | 0 | 162 | 4528 | 0 | 0 | 0 | 0 | 1 | 0 | 0 | 0 | 0 | 0 | 0 | 0 | 0 | 0 | 2 | 2   \n",
    "\n",
    "| 24 | 25 | 26 | 27 |  28 |  29  | 30 | 31 | 32 | 33 | 34 | 35 | 36 | 37 | 38\n",
    "--|--\n",
    "0|0.0 | 0.0 | 0.0 | 0.0 | 1.0 | 0.0 | 0.0 |  0 |  0 | 0.0 | 0.0 | 0.0 | 0.0 | 0.0 | 0.0   \n",
    "1|0.0 | 0.0 | 0.0 | 0.0 | 1.0 | 0.0 | 0.0 |  1 |  1 | 1.0 | 0.0 | 1.0 | 0.0 | 0.0 | 0.0   \n",
    "\n",
    "  | 39 | 40 | Class | 1_icmp | 1_tcp | 1_udp | 2_IRC | 2_X11 | 2_auth | 2_ctf\n",
    "--|--\n",
    "0 | 0.0 | 0.0 | 0 | 0 | 1 | 0 |  0  |    0  |     0  |    0   \n",
    "1 | 0.0 | 0.0 | 0 | 0 | 1 | 0 |  0  |    0  |     0  |    0   \n",
    "\n",
    " | 2_domain | 2_domain_u | 2_eco_i | 2_ecr_i | 2_finger | 2_ftp | 2_ftp_data\n",
    " --|--\n",
    "0  |   0  |    0  |   0  |  0  |   0  |    0   |   0   \n",
    "1  |   0  |    0  |   0  |  0  |   0  |    0   |   0   \n",
    "\n",
    "| 2_gopher | 2_http | 2_imap4 | 2_link | 2_mtp | 2_name | 2_ntp_u | 2_other \n",
    "--|--\n",
    "0 |   0  |     1   |     0  |     0  |    0  |     0  |      0   |     0   \n",
    "1 |   0  |     1   |     0  |     0  |    0  |     0  |      0   |     0   \n",
    "\n",
    "| 2_pop_3 | 2_private | 2_red_i | 2_remote_job | 2_rje | 2_shell | 2_smtp | 2_ssh \n",
    "--|--\n",
    "0 |       0 |         0 |       0 |            0 |     0 |       0 |      0 |     0   \n",
    "1 |       0 |         0 |       0 |            0 |     0 |       0 |      0 |     0   \n",
    "\n",
    "| 2_telnet | 2_tftp_u | 2_tim_i | 2_time | 2_urh_i | 2_urp_i | 2_whois | 3_OTH  \n",
    "--|--\n",
    "0 |        0 |     0 |       0 |      0 |       0 |       0 |       0 |     0   \n",
    "1 |        0 |     0 |       0 |      0 |       0 |       0 |       0 |     0   \n",
    "\n",
    "| 3_REJ | 3_RSTO | 3_RSTR | 3_S0 | 3_S1 | 3_S2 | 3_S3 | 3_SF | 3_SH  \n",
    "--|--\n",
    "0 |     0 |      0 |      0 |    0 |    0 |    0 |    0 |    1 |    0  \n",
    "1 |     0 |      0 |      0 |    0 |    0 |    0 |    0 |    1 |    0  "
   ]
  },
  {
   "cell_type": "code",
   "execution_count": 10,
   "metadata": {},
   "outputs": [
    {
     "data": {
      "text/html": [
       "<div>\n",
       "<style scoped>\n",
       "    .dataframe tbody tr th:only-of-type {\n",
       "        vertical-align: middle;\n",
       "    }\n",
       "\n",
       "    .dataframe tbody tr th {\n",
       "        vertical-align: top;\n",
       "    }\n",
       "\n",
       "    .dataframe thead th {\n",
       "        text-align: right;\n",
       "    }\n",
       "</style>\n",
       "<table border=\"1\" class=\"dataframe\">\n",
       "  <thead>\n",
       "    <tr style=\"text-align: right;\">\n",
       "      <th></th>\n",
       "      <th>0</th>\n",
       "      <th>4</th>\n",
       "      <th>5</th>\n",
       "      <th>6</th>\n",
       "      <th>8</th>\n",
       "      <th>9</th>\n",
       "      <th>10</th>\n",
       "      <th>11</th>\n",
       "      <th>12</th>\n",
       "      <th>13</th>\n",
       "      <th>...</th>\n",
       "      <th>3_OTH</th>\n",
       "      <th>3_REJ</th>\n",
       "      <th>3_RSTO</th>\n",
       "      <th>3_RSTR</th>\n",
       "      <th>3_S0</th>\n",
       "      <th>3_S1</th>\n",
       "      <th>3_S2</th>\n",
       "      <th>3_S3</th>\n",
       "      <th>3_SF</th>\n",
       "      <th>3_SH</th>\n",
       "    </tr>\n",
       "  </thead>\n",
       "  <tbody>\n",
       "    <tr>\n",
       "      <th>0</th>\n",
       "      <td>0</td>\n",
       "      <td>215</td>\n",
       "      <td>45076</td>\n",
       "      <td>0</td>\n",
       "      <td>0</td>\n",
       "      <td>0</td>\n",
       "      <td>0</td>\n",
       "      <td>1</td>\n",
       "      <td>0</td>\n",
       "      <td>0</td>\n",
       "      <td>...</td>\n",
       "      <td>0</td>\n",
       "      <td>0</td>\n",
       "      <td>0</td>\n",
       "      <td>0</td>\n",
       "      <td>0</td>\n",
       "      <td>0</td>\n",
       "      <td>0</td>\n",
       "      <td>0</td>\n",
       "      <td>1</td>\n",
       "      <td>0</td>\n",
       "    </tr>\n",
       "    <tr>\n",
       "      <th>1</th>\n",
       "      <td>0</td>\n",
       "      <td>162</td>\n",
       "      <td>4528</td>\n",
       "      <td>0</td>\n",
       "      <td>0</td>\n",
       "      <td>0</td>\n",
       "      <td>0</td>\n",
       "      <td>1</td>\n",
       "      <td>0</td>\n",
       "      <td>0</td>\n",
       "      <td>...</td>\n",
       "      <td>0</td>\n",
       "      <td>0</td>\n",
       "      <td>0</td>\n",
       "      <td>0</td>\n",
       "      <td>0</td>\n",
       "      <td>0</td>\n",
       "      <td>0</td>\n",
       "      <td>0</td>\n",
       "      <td>1</td>\n",
       "      <td>0</td>\n",
       "    </tr>\n",
       "  </tbody>\n",
       "</table>\n",
       "<p>2 rows × 84 columns</p>\n",
       "</div>"
      ],
      "text/plain": [
       "   0    4      5  6  8  9  10  11  12  13  ...   3_OTH  3_REJ  3_RSTO  3_RSTR  \\\n",
       "0  0  215  45076  0  0  0   0   1   0   0  ...       0      0       0       0   \n",
       "1  0  162   4528  0  0  0   0   1   0   0  ...       0      0       0       0   \n",
       "\n",
       "   3_S0  3_S1  3_S2  3_S3  3_SF  3_SH  \n",
       "0     0     0     0     0     1     0  \n",
       "1     0     0     0     0     1     0  \n",
       "\n",
       "[2 rows x 84 columns]"
      ]
     },
     "execution_count": 10,
     "metadata": {},
     "output_type": "execute_result"
    }
   ],
   "source": [
    "kddCupTrain = pd.get_dummies(kddCupTrain, columns = [1,2,3])\n",
    "kddCupTrain.head(2)"
   ]
  },
  {
   "cell_type": "code",
   "execution_count": 11,
   "metadata": {},
   "outputs": [
    {
     "data": {
      "text/plain": [
       "(985262, 84)"
      ]
     },
     "execution_count": 11,
     "metadata": {},
     "output_type": "execute_result"
    }
   ],
   "source": [
    "kddCupTrain.shape"
   ]
  },
  {
   "cell_type": "markdown",
   "metadata": {},
   "source": [
    "### Now, we need to standardize the data set, classify it into training and testing data set.\n",
    "### Use the scaling function to scale it"
   ]
  },
  {
   "cell_type": "code",
   "execution_count": 12,
   "metadata": {},
   "outputs": [
    {
     "name": "stdout",
     "output_type": "stream",
     "text": [
      "<tensorflow.python.client.session.Session object at 0x101e4bf98>\n"
     ]
    }
   ],
   "source": [
    "sess = tf.Session(config=tf.ConfigProto(log_device_placement=True))\n",
    "print(sess)"
   ]
  },
  {
   "cell_type": "code",
   "execution_count": 13,
   "metadata": {},
   "outputs": [
    {
     "name": "stdout",
     "output_type": "stream",
     "text": [
      "featuresList:  [0, 4, 5, 6, 8, 9, 10, 11, 12, 13, 14, 15, 16, 17, 18, 20, 21, 22, 23, 24, 25, 26, 27, 28, 29, 30, 31, 32, 33, 34, 35, 36, 37, 38, 39, 40, '1_icmp', '1_tcp', '1_udp', '2_IRC', '2_X11', '2_auth', '2_ctf', '2_domain', '2_domain_u', '2_eco_i', '2_ecr_i', '2_finger', '2_ftp', '2_ftp_data', '2_gopher', '2_http', '2_imap4', '2_link', '2_mtp', '2_name', '2_ntp_u', '2_other', '2_pop_3', '2_private', '2_red_i', '2_remote_job', '2_rje', '2_shell', '2_smtp', '2_ssh', '2_telnet', '2_tftp_u', '2_tim_i', '2_time', '2_urh_i', '2_urp_i', '2_whois', '3_OTH', '3_REJ', '3_RSTO', '3_RSTR', '3_S0', '3_S1', '3_S2', '3_S3', '3_SF', '3_SH']\n"
     ]
    }
   ],
   "source": [
    "featuresList = [col for col in kddCupTrain if col != 'Class']\n",
    "print('featuresList: ',featuresList)"
   ]
  },
  {
   "cell_type": "markdown",
   "metadata": {},
   "source": [
    "Removing some additional columns which are not there in the test data set."
   ]
  },
  {
   "cell_type": "code",
   "execution_count": 14,
   "metadata": {
    "collapsed": true
   },
   "outputs": [],
   "source": [
    "featuresList = [x for x in featuresList if x!='2_tftp_u']\n",
    "featuresList = [x for x in featuresList if x!='3_SH']"
   ]
  },
  {
   "cell_type": "code",
   "execution_count": 15,
   "metadata": {},
   "outputs": [
    {
     "data": {
      "text/html": [
       "<div>\n",
       "<style scoped>\n",
       "    .dataframe tbody tr th:only-of-type {\n",
       "        vertical-align: middle;\n",
       "    }\n",
       "\n",
       "    .dataframe tbody tr th {\n",
       "        vertical-align: top;\n",
       "    }\n",
       "\n",
       "    .dataframe thead th {\n",
       "        text-align: right;\n",
       "    }\n",
       "</style>\n",
       "<table border=\"1\" class=\"dataframe\">\n",
       "  <thead>\n",
       "    <tr style=\"text-align: right;\">\n",
       "      <th></th>\n",
       "      <th>0</th>\n",
       "      <th>4</th>\n",
       "      <th>5</th>\n",
       "      <th>6</th>\n",
       "      <th>8</th>\n",
       "      <th>9</th>\n",
       "      <th>10</th>\n",
       "      <th>11</th>\n",
       "      <th>12</th>\n",
       "      <th>13</th>\n",
       "      <th>...</th>\n",
       "      <th>3_OTH</th>\n",
       "      <th>3_REJ</th>\n",
       "      <th>3_RSTO</th>\n",
       "      <th>3_RSTR</th>\n",
       "      <th>3_S0</th>\n",
       "      <th>3_S1</th>\n",
       "      <th>3_S2</th>\n",
       "      <th>3_S3</th>\n",
       "      <th>3_SF</th>\n",
       "      <th>3_SH</th>\n",
       "    </tr>\n",
       "  </thead>\n",
       "  <tbody>\n",
       "    <tr>\n",
       "      <th>0</th>\n",
       "      <td>-0.160072</td>\n",
       "      <td>-0.011332</td>\n",
       "      <td>1.231248</td>\n",
       "      <td>-0.002665</td>\n",
       "      <td>-0.002235</td>\n",
       "      <td>-0.052816</td>\n",
       "      <td>-0.007462</td>\n",
       "      <td>0.638815</td>\n",
       "      <td>-0.004408</td>\n",
       "      <td>-0.01751</td>\n",
       "      <td>...</td>\n",
       "      <td>-0.003632</td>\n",
       "      <td>-0.2415</td>\n",
       "      <td>-0.025415</td>\n",
       "      <td>-0.018415</td>\n",
       "      <td>-0.020749</td>\n",
       "      <td>-0.023156</td>\n",
       "      <td>-0.012462</td>\n",
       "      <td>-0.006833</td>\n",
       "      <td>0.246487</td>\n",
       "      <td>0</td>\n",
       "    </tr>\n",
       "    <tr>\n",
       "      <th>1</th>\n",
       "      <td>-0.160072</td>\n",
       "      <td>-0.011815</td>\n",
       "      <td>0.039225</td>\n",
       "      <td>-0.002665</td>\n",
       "      <td>-0.002235</td>\n",
       "      <td>-0.052816</td>\n",
       "      <td>-0.007462</td>\n",
       "      <td>0.638815</td>\n",
       "      <td>-0.004408</td>\n",
       "      <td>-0.01751</td>\n",
       "      <td>...</td>\n",
       "      <td>-0.003632</td>\n",
       "      <td>-0.2415</td>\n",
       "      <td>-0.025415</td>\n",
       "      <td>-0.018415</td>\n",
       "      <td>-0.020749</td>\n",
       "      <td>-0.023156</td>\n",
       "      <td>-0.012462</td>\n",
       "      <td>-0.006833</td>\n",
       "      <td>0.246487</td>\n",
       "      <td>0</td>\n",
       "    </tr>\n",
       "    <tr>\n",
       "      <th>2</th>\n",
       "      <td>-0.160072</td>\n",
       "      <td>-0.011141</td>\n",
       "      <td>-0.057788</td>\n",
       "      <td>-0.002665</td>\n",
       "      <td>-0.002235</td>\n",
       "      <td>-0.052816</td>\n",
       "      <td>-0.007462</td>\n",
       "      <td>0.638815</td>\n",
       "      <td>-0.004408</td>\n",
       "      <td>-0.01751</td>\n",
       "      <td>...</td>\n",
       "      <td>-0.003632</td>\n",
       "      <td>-0.2415</td>\n",
       "      <td>-0.025415</td>\n",
       "      <td>-0.018415</td>\n",
       "      <td>-0.020749</td>\n",
       "      <td>-0.023156</td>\n",
       "      <td>-0.012462</td>\n",
       "      <td>-0.006833</td>\n",
       "      <td>0.246487</td>\n",
       "      <td>0</td>\n",
       "    </tr>\n",
       "    <tr>\n",
       "      <th>3</th>\n",
       "      <td>-0.160072</td>\n",
       "      <td>-0.011168</td>\n",
       "      <td>-0.034152</td>\n",
       "      <td>-0.002665</td>\n",
       "      <td>-0.002235</td>\n",
       "      <td>-0.052816</td>\n",
       "      <td>-0.007462</td>\n",
       "      <td>0.638815</td>\n",
       "      <td>-0.004408</td>\n",
       "      <td>-0.01751</td>\n",
       "      <td>...</td>\n",
       "      <td>-0.003632</td>\n",
       "      <td>-0.2415</td>\n",
       "      <td>-0.025415</td>\n",
       "      <td>-0.018415</td>\n",
       "      <td>-0.020749</td>\n",
       "      <td>-0.023156</td>\n",
       "      <td>-0.012462</td>\n",
       "      <td>-0.006833</td>\n",
       "      <td>0.246487</td>\n",
       "      <td>0</td>\n",
       "    </tr>\n",
       "    <tr>\n",
       "      <th>4</th>\n",
       "      <td>-0.160072</td>\n",
       "      <td>-0.011114</td>\n",
       "      <td>-0.079601</td>\n",
       "      <td>-0.002665</td>\n",
       "      <td>-0.002235</td>\n",
       "      <td>-0.052816</td>\n",
       "      <td>-0.007462</td>\n",
       "      <td>0.638815</td>\n",
       "      <td>-0.004408</td>\n",
       "      <td>-0.01751</td>\n",
       "      <td>...</td>\n",
       "      <td>-0.003632</td>\n",
       "      <td>-0.2415</td>\n",
       "      <td>-0.025415</td>\n",
       "      <td>-0.018415</td>\n",
       "      <td>-0.020749</td>\n",
       "      <td>-0.023156</td>\n",
       "      <td>-0.012462</td>\n",
       "      <td>-0.006833</td>\n",
       "      <td>0.246487</td>\n",
       "      <td>0</td>\n",
       "    </tr>\n",
       "  </tbody>\n",
       "</table>\n",
       "<p>5 rows × 84 columns</p>\n",
       "</div>"
      ],
      "text/plain": [
       "          0         4         5         6         8         9        10  \\\n",
       "0 -0.160072 -0.011332  1.231248 -0.002665 -0.002235 -0.052816 -0.007462   \n",
       "1 -0.160072 -0.011815  0.039225 -0.002665 -0.002235 -0.052816 -0.007462   \n",
       "2 -0.160072 -0.011141 -0.057788 -0.002665 -0.002235 -0.052816 -0.007462   \n",
       "3 -0.160072 -0.011168 -0.034152 -0.002665 -0.002235 -0.052816 -0.007462   \n",
       "4 -0.160072 -0.011114 -0.079601 -0.002665 -0.002235 -0.052816 -0.007462   \n",
       "\n",
       "         11        12       13  ...      3_OTH   3_REJ    3_RSTO    3_RSTR  \\\n",
       "0  0.638815 -0.004408 -0.01751  ...  -0.003632 -0.2415 -0.025415 -0.018415   \n",
       "1  0.638815 -0.004408 -0.01751  ...  -0.003632 -0.2415 -0.025415 -0.018415   \n",
       "2  0.638815 -0.004408 -0.01751  ...  -0.003632 -0.2415 -0.025415 -0.018415   \n",
       "3  0.638815 -0.004408 -0.01751  ...  -0.003632 -0.2415 -0.025415 -0.018415   \n",
       "4  0.638815 -0.004408 -0.01751  ...  -0.003632 -0.2415 -0.025415 -0.018415   \n",
       "\n",
       "       3_S0      3_S1      3_S2      3_S3      3_SF  3_SH  \n",
       "0 -0.020749 -0.023156 -0.012462 -0.006833  0.246487     0  \n",
       "1 -0.020749 -0.023156 -0.012462 -0.006833  0.246487     0  \n",
       "2 -0.020749 -0.023156 -0.012462 -0.006833  0.246487     0  \n",
       "3 -0.020749 -0.023156 -0.012462 -0.006833  0.246487     0  \n",
       "4 -0.020749 -0.023156 -0.012462 -0.006833  0.246487     0  \n",
       "\n",
       "[5 rows x 84 columns]"
      ]
     },
     "execution_count": 15,
     "metadata": {},
     "output_type": "execute_result"
    }
   ],
   "source": [
    "scaler = preprocessing.StandardScaler()\n",
    "scaler.fit(kddCupTrain[featuresList]);\n",
    "\n",
    "kddCupTrain[featuresList] = scaler.transform(kddCupTrain[featuresList])\n",
    "kddCupTrain.head()"
   ]
  },
  {
   "cell_type": "code",
   "execution_count": 16,
   "metadata": {},
   "outputs": [
    {
     "data": {
      "text/plain": [
       "(985262, 82)"
      ]
     },
     "execution_count": 16,
     "metadata": {},
     "output_type": "execute_result"
    }
   ],
   "source": [
    "kddCupTrain=kddCupTrain.drop(['2_tftp_u', '3_SH'],axis=1)\n",
    "kddCupTrain.shape"
   ]
  },
  {
   "cell_type": "markdown",
   "metadata": {},
   "source": [
    "### Creating the training and testing split"
   ]
  },
  {
   "cell_type": "code",
   "execution_count": 17,
   "metadata": {
    "collapsed": true
   },
   "outputs": [],
   "source": [
    "X_train_split, X_test_split = train_test_split(kddCupTrain, test_size=0.2,\n",
    "                                   stratify=kddCupTrain['Class'], \n",
    "                                   random_state=RANDOM_SEED)"
   ]
  },
  {
   "cell_type": "code",
   "execution_count": 18,
   "metadata": {},
   "outputs": [
    {
     "name": "stdout",
     "output_type": "stream",
     "text": [
      "(788209, 82) (197053, 82)\n"
     ]
    }
   ],
   "source": [
    "print(X_train_split.shape, X_test_split.shape)"
   ]
  },
  {
   "cell_type": "markdown",
   "metadata": {},
   "source": [
    "### Detach the labels from the train and the test datasets\n",
    "Extract the labels from train and test data."
   ]
  },
  {
   "cell_type": "code",
   "execution_count": 19,
   "metadata": {},
   "outputs": [
    {
     "name": "stdout",
     "output_type": "stream",
     "text": [
      "Train: shape X (788209, 81) , shape Y (788209,)\n",
      "Test: shape X (197053, 81) , shape Y (197053,)\n"
     ]
    }
   ],
   "source": [
    "y_train = X_train_split['Class']\n",
    "X_train = X_train_split.drop(['Class'], axis=1)\n",
    "\n",
    "y_test = X_test_split['Class']\n",
    "X_test = X_test_split.drop(['Class'], axis=1)\n",
    "print('Train: shape X',X_train.shape,', shape Y',y_train.shape)\n",
    "print('Test: shape X',X_test.shape,', shape Y',y_test.shape)"
   ]
  },
  {
   "cell_type": "markdown",
   "metadata": {
    "collapsed": true
   },
   "source": [
    "### Select the \"normal\" transactions from the training data to train autoencoder on them."
   ]
  },
  {
   "cell_type": "code",
   "execution_count": 20,
   "metadata": {
    "collapsed": true
   },
   "outputs": [],
   "source": [
    "X_trainNorm = X_train[y_train == 0]\n",
    "X_trainNorm_val = X_trainNorm.values # Only values, axes labels removed. This is input for the Autoencoder\n",
    "X_testNorm_val = X_test[y_test == 0].values # The validation data"
   ]
  },
  {
   "cell_type": "code",
   "execution_count": 21,
   "metadata": {},
   "outputs": [
    {
     "name": "stdout",
     "output_type": "stream",
     "text": [
      "(788209,)\n",
      "(788209, 81)\n"
     ]
    }
   ],
   "source": [
    "print(y_train.shape)\n",
    "print(X_train.shape)"
   ]
  },
  {
   "cell_type": "code",
   "execution_count": 22,
   "metadata": {},
   "outputs": [
    {
     "data": {
      "text/plain": [
       "(778224, 81)"
      ]
     },
     "execution_count": 22,
     "metadata": {},
     "output_type": "execute_result"
    }
   ],
   "source": [
    "X_trainNorm_val.shape"
   ]
  },
  {
   "cell_type": "markdown",
   "metadata": {},
   "source": [
    "# Creating the model\n",
    "\n",
    "This autoencoder contains fully connected layers with 14, 7, 14 and 29 neurons, respectively.  The first two layers make encoder, the last two make decoder. \n",
    "\n",
    "Training is done with $L_1$ regularization.\n",
    "\n",
    "Set parameters:"
   ]
  },
  {
   "cell_type": "code",
   "execution_count": 23,
   "metadata": {},
   "outputs": [
    {
     "name": "stdout",
     "output_type": "stream",
     "text": [
      "81\n"
     ]
    }
   ],
   "source": [
    "input_dim = X_trainNorm_val.shape[1]\n",
    "layer1_dim = 60\n",
    "encoder_dim = 40\n",
    "print(input_dim)"
   ]
  },
  {
   "cell_type": "markdown",
   "metadata": {},
   "source": [
    "Create tensors:"
   ]
  },
  {
   "cell_type": "code",
   "execution_count": 24,
   "metadata": {
    "collapsed": true
   },
   "outputs": [],
   "source": [
    "input_layer = Input(shape=(input_dim, ))\n",
    "\n",
    "#first encoder layer\n",
    "\n",
    "encoder1 = Dense(layer1_dim, activation=\"tanh\", \n",
    "                activity_regularizer=regularizers.l1(10e-5))(input_layer)\n",
    "##using dropout layers\n",
    "dropout_rate = 0.1  # drop ~80% (!!!) of pixels\n",
    "dropout_layer = Dropout(rate=dropout_rate)(encoder1, training=True)  # training=True activates dropout during prediction\n",
    "norm_1 = BatchNormalization()(dropout_layer)\n",
    "\n",
    "#second encoder layer\n",
    "encoder2 = Dense(40, activation=\"relu\")(norm_1)\n",
    "\n",
    "#using dropout layer\n",
    "dropout_rate = 0.1\n",
    "dropout_layer2 = Dropout(rate=dropout_rate)(encoder2, training=True)\n",
    "norm_2 = BatchNormalization()(dropout_layer2)\n",
    "\n",
    "#third encoder layer\n",
    "encoder3 = Dense(20, activation=\"relu\")(norm_2)\n",
    "\n",
    "##using dropout layer\n",
    "dropout_rate = 0.1\n",
    "dropout_layer3 = Dropout(rate = dropout_rate)(encoder3, training=True)\n",
    "norm_3 = BatchNormalization()(dropout_layer3)\n",
    "\n",
    "##using fourth encoder layer\n",
    "encoder4 = Dense(10, activation=\"relu\")(norm_3)\n",
    "\n",
    "##creating the first decoder layer\n",
    "decoder1 = Dense(20, activation='tanh')(encoder4)\n",
    "\n",
    "##creating the first dropout for the decoder layer\n",
    "dropout_rate = 0.1\n",
    "dropout_layer4 = Dropout(rate=dropout_rate)(decoder1, training=True)\n",
    "norm_4 = BatchNormalization()(dropout_layer4)\n",
    "\n",
    "##adding the second decoder layer\n",
    "decoder2 = Dense(40, activation='relu')(norm_4)\n",
    "\n",
    "##addind another dropout for decoder\n",
    "dropout_rate = 0.1\n",
    "dropout_layer5 = Dropout(rate=dropout_rate)(decoder2, training=True)\n",
    "norm_5 = BatchNormalization()(dropout_layer5)\n",
    "\n",
    "#adding the third decoder layer\n",
    "decoder3 = Dense(60, activation=\"tanh\")(norm_5)\n",
    "\n",
    "#adding another dropout layer\n",
    "dropout_rate = 0.1\n",
    "dropout_layer6 = Dropout(rate=dropout_rate)(decoder3, training=True)\n",
    "norm_6 = BatchNormalization()(dropout_layer6)\n",
    "\n",
    "##adding 4th decoder layer\n",
    "decoder4 = Dense(input_dim, activation=\"relu\")(norm_6)\n",
    "\n",
    "#print('input_layer: ',input_layer)\n",
    "#print('encoder1',encoder1)\n",
    "#print('encoder2',encoder2)\n",
    "#print('decoder1',decoder1)\n",
    "#print('decoder2',decoder2)"
   ]
  },
  {
   "cell_type": "code",
   "execution_count": 25,
   "metadata": {},
   "outputs": [
    {
     "name": "stdout",
     "output_type": "stream",
     "text": [
      "_________________________________________________________________\n",
      "Layer (type)                 Output Shape              Param #   \n",
      "=================================================================\n",
      "input_1 (InputLayer)         (None, 81)                0         \n",
      "_________________________________________________________________\n",
      "dense_1 (Dense)              (None, 60)                4920      \n",
      "_________________________________________________________________\n",
      "dropout_1 (Dropout)          (None, 60)                0         \n",
      "_________________________________________________________________\n",
      "batch_normalization_1 (Batch (None, 60)                240       \n",
      "_________________________________________________________________\n",
      "dense_2 (Dense)              (None, 40)                2440      \n",
      "_________________________________________________________________\n",
      "dropout_2 (Dropout)          (None, 40)                0         \n",
      "_________________________________________________________________\n",
      "batch_normalization_2 (Batch (None, 40)                160       \n",
      "_________________________________________________________________\n",
      "dense_3 (Dense)              (None, 20)                820       \n",
      "_________________________________________________________________\n",
      "dropout_3 (Dropout)          (None, 20)                0         \n",
      "_________________________________________________________________\n",
      "batch_normalization_3 (Batch (None, 20)                80        \n",
      "_________________________________________________________________\n",
      "dense_4 (Dense)              (None, 10)                210       \n",
      "_________________________________________________________________\n",
      "dense_5 (Dense)              (None, 20)                220       \n",
      "_________________________________________________________________\n",
      "dropout_4 (Dropout)          (None, 20)                0         \n",
      "_________________________________________________________________\n",
      "batch_normalization_4 (Batch (None, 20)                80        \n",
      "_________________________________________________________________\n",
      "dense_6 (Dense)              (None, 40)                840       \n",
      "_________________________________________________________________\n",
      "dropout_5 (Dropout)          (None, 40)                0         \n",
      "_________________________________________________________________\n",
      "batch_normalization_5 (Batch (None, 40)                160       \n",
      "_________________________________________________________________\n",
      "dense_7 (Dense)              (None, 60)                2460      \n",
      "_________________________________________________________________\n",
      "dropout_6 (Dropout)          (None, 60)                0         \n",
      "_________________________________________________________________\n",
      "batch_normalization_6 (Batch (None, 60)                240       \n",
      "_________________________________________________________________\n",
      "dense_8 (Dense)              (None, 81)                4941      \n",
      "=================================================================\n",
      "Total params: 17,811\n",
      "Trainable params: 17,331\n",
      "Non-trainable params: 480\n",
      "_________________________________________________________________\n"
     ]
    }
   ],
   "source": [
    "## Creating an autoencoder from the tensors\n",
    "autoencoder = Model(inputs=input_layer, outputs=decoder4)\n",
    "autoencoder.summary()"
   ]
  },
  {
   "cell_type": "markdown",
   "metadata": {},
   "source": [
    "Train the model for 100 epochs with a batch size of 32 samples and save the best performing model to a file using ModelCheckpoint provided by Keras. \n",
    "\n",
    "Use the EarlyStopping callback that stops training when a monitored quantity has stopped improving."
   ]
  },
  {
   "cell_type": "code",
   "execution_count": 26,
   "metadata": {
    "scrolled": false
   },
   "outputs": [
    {
     "name": "stdout",
     "output_type": "stream",
     "text": [
      "Train on 778224 samples, validate on 194557 samples\n",
      "Epoch 1/100\n",
      "778224/778224 [==============================] - 20s 26us/step - loss: 0.7414 - val_loss: 0.5569\n",
      "Epoch 2/100\n",
      "778224/778224 [==============================] - 18s 23us/step - loss: 0.5585 - val_loss: 0.4975\n",
      "Epoch 3/100\n",
      "778224/778224 [==============================] - 18s 23us/step - loss: 0.5298 - val_loss: 0.4960\n",
      "Epoch 4/100\n",
      "778224/778224 [==============================] - 23s 30us/step - loss: 0.5160 - val_loss: 0.5112\n",
      "Epoch 5/100\n",
      "778224/778224 [==============================] - 19s 24us/step - loss: 0.5089 - val_loss: 0.4791\n",
      "Epoch 6/100\n",
      "778224/778224 [==============================] - 18s 24us/step - loss: 0.5053 - val_loss: 0.4690\n",
      "Epoch 7/100\n",
      "778224/778224 [==============================] - 19s 24us/step - loss: 0.4971 - val_loss: 0.4571\n",
      "Epoch 8/100\n",
      "778224/778224 [==============================] - 18s 24us/step - loss: 0.4896 - val_loss: 0.4561\n",
      "Epoch 9/100\n",
      "778224/778224 [==============================] - 18s 24us/step - loss: 0.4844 - val_loss: 0.4562\n",
      "Epoch 10/100\n",
      "778224/778224 [==============================] - 18s 24us/step - loss: 0.5064 - val_loss: 0.4679\n",
      "Epoch 11/100\n",
      "778224/778224 [==============================] - 18s 24us/step - loss: 0.4784 - val_loss: 0.4364\n",
      "Epoch 12/100\n",
      "778224/778224 [==============================] - 18s 24us/step - loss: 0.4802 - val_loss: 0.4361\n",
      "Epoch 13/100\n",
      "778224/778224 [==============================] - 18s 24us/step - loss: 0.4835 - val_loss: 0.4473\n",
      "Epoch 14/100\n",
      "778224/778224 [==============================] - 18s 24us/step - loss: 0.4861 - val_loss: 0.4462\n",
      "Epoch 15/100\n",
      "778224/778224 [==============================] - 18s 24us/step - loss: 0.4768 - val_loss: 0.4312\n",
      "Epoch 16/100\n",
      "778224/778224 [==============================] - 18s 24us/step - loss: 0.4731 - val_loss: 0.4462\n",
      "Epoch 17/100\n",
      "778224/778224 [==============================] - 18s 23us/step - loss: 0.4740 - val_loss: 0.4455\n",
      "Epoch 18/100\n",
      "778224/778224 [==============================] - 18s 24us/step - loss: 0.4822 - val_loss: 0.4307\n",
      "Epoch 19/100\n",
      "778224/778224 [==============================] - 18s 24us/step - loss: 0.4801 - val_loss: 0.4350\n",
      "Epoch 20/100\n",
      "778224/778224 [==============================] - 18s 24us/step - loss: 0.4756 - val_loss: 0.4375\n",
      "Epoch 21/100\n",
      "778224/778224 [==============================] - 18s 24us/step - loss: 0.4686 - val_loss: 0.4653\n",
      "Epoch 22/100\n",
      "778224/778224 [==============================] - 18s 24us/step - loss: 0.4768 - val_loss: 0.4457\n",
      "Epoch 23/100\n",
      "778224/778224 [==============================] - 18s 24us/step - loss: 0.4716 - val_loss: 0.4313\n",
      "Epoch 24/100\n",
      "778224/778224 [==============================] - 18s 24us/step - loss: 0.4709 - val_loss: 0.4437\n",
      "Epoch 25/100\n",
      "778224/778224 [==============================] - 18s 24us/step - loss: 0.4720 - val_loss: 0.4282\n",
      "Epoch 26/100\n",
      "778224/778224 [==============================] - 18s 24us/step - loss: 0.4621 - val_loss: 0.4225\n",
      "Epoch 27/100\n",
      "778224/778224 [==============================] - 19s 24us/step - loss: 0.4670 - val_loss: 0.4164\n",
      "Epoch 28/100\n",
      "778224/778224 [==============================] - 19s 25us/step - loss: 0.4776 - val_loss: 0.4429\n",
      "Epoch 29/100\n",
      "778224/778224 [==============================] - 19s 24us/step - loss: 0.4705 - val_loss: 0.4556\n",
      "Epoch 30/100\n",
      "778224/778224 [==============================] - 19s 24us/step - loss: 0.4751 - val_loss: 0.4144\n",
      "Epoch 31/100\n",
      "778224/778224 [==============================] - 19s 24us/step - loss: 0.4582 - val_loss: 0.4268\n",
      "Epoch 32/100\n",
      "778224/778224 [==============================] - 18s 24us/step - loss: 0.4723 - val_loss: 0.4108\n",
      "Epoch 33/100\n",
      "778224/778224 [==============================] - 18s 24us/step - loss: 0.4623 - val_loss: 0.4510\n",
      "Epoch 34/100\n",
      "778224/778224 [==============================] - 19s 24us/step - loss: 0.4749 - val_loss: 0.4512\n",
      "Epoch 35/100\n",
      "778224/778224 [==============================] - 19s 24us/step - loss: 0.4726 - val_loss: 0.4213\n",
      "Epoch 36/100\n",
      "778224/778224 [==============================] - 19s 24us/step - loss: 0.4657 - val_loss: 0.4185\n",
      "Epoch 37/100\n",
      "778224/778224 [==============================] - 19s 24us/step - loss: 0.4687 - val_loss: 0.4408\n",
      "Epoch 38/100\n",
      "778224/778224 [==============================] - 19s 24us/step - loss: 0.4618 - val_loss: 0.4598\n",
      "Epoch 39/100\n",
      "778224/778224 [==============================] - 19s 24us/step - loss: 0.4679 - val_loss: 0.4367\n",
      "Epoch 40/100\n",
      "778224/778224 [==============================] - 19s 24us/step - loss: 0.4595 - val_loss: 0.4811\n",
      "Epoch 41/100\n",
      "778224/778224 [==============================] - 19s 24us/step - loss: 0.4684 - val_loss: 0.4177\n",
      "Epoch 42/100\n",
      "778224/778224 [==============================] - 19s 24us/step - loss: 0.4645 - val_loss: 0.4294\n",
      "Epoch 43/100\n",
      "778224/778224 [==============================] - 19s 24us/step - loss: 0.4550 - val_loss: 0.4190\n",
      "Epoch 44/100\n",
      "778224/778224 [==============================] - 19s 24us/step - loss: 0.4596 - val_loss: 0.4267\n",
      "Epoch 45/100\n",
      "778224/778224 [==============================] - 19s 24us/step - loss: 0.4639 - val_loss: 0.4160\n",
      "Epoch 46/100\n",
      "778224/778224 [==============================] - 19s 24us/step - loss: 0.4573 - val_loss: 0.4162\n",
      "Epoch 47/100\n",
      "778224/778224 [==============================] - 19s 24us/step - loss: 0.4592 - val_loss: 0.4182\n",
      "Epoch 48/100\n",
      "778224/778224 [==============================] - 19s 24us/step - loss: 0.4736 - val_loss: 0.4222\n",
      "Epoch 49/100\n",
      "778224/778224 [==============================] - 19s 24us/step - loss: 0.4648 - val_loss: 0.4088\n",
      "Epoch 50/100\n",
      "778224/778224 [==============================] - 19s 24us/step - loss: 0.4712 - val_loss: 0.4582\n",
      "Epoch 51/100\n",
      "778224/778224 [==============================] - 19s 24us/step - loss: 0.4698 - val_loss: 0.4365\n",
      "Epoch 52/100\n",
      "778224/778224 [==============================] - 19s 24us/step - loss: 0.4785 - val_loss: 0.4396\n",
      "Epoch 53/100\n",
      "778224/778224 [==============================] - 19s 24us/step - loss: 0.4644 - val_loss: 0.4132\n",
      "Epoch 54/100\n",
      "778224/778224 [==============================] - 19s 24us/step - loss: 0.4678 - val_loss: 0.4528\n",
      "Epoch 55/100\n",
      "778224/778224 [==============================] - 19s 24us/step - loss: 0.4653 - val_loss: 0.4255\n",
      "Epoch 56/100\n",
      "778224/778224 [==============================] - 19s 24us/step - loss: 0.4683 - val_loss: 0.4292\n",
      "Epoch 57/100\n",
      "778224/778224 [==============================] - 19s 24us/step - loss: 0.4667 - val_loss: 0.4274\n",
      "Epoch 58/100\n",
      "778224/778224 [==============================] - 19s 24us/step - loss: 0.4747 - val_loss: 0.4467\n",
      "Epoch 59/100\n",
      "778224/778224 [==============================] - 19s 24us/step - loss: 0.4728 - val_loss: 0.4408\n",
      "Epoch 60/100\n",
      "778224/778224 [==============================] - 19s 24us/step - loss: 0.4839 - val_loss: 0.4529\n",
      "Epoch 61/100\n",
      "778224/778224 [==============================] - 19s 24us/step - loss: 0.4833 - val_loss: 0.4605\n",
      "Epoch 62/100\n",
      "778224/778224 [==============================] - 19s 24us/step - loss: 0.4961 - val_loss: 0.4385\n",
      "Epoch 63/100\n",
      "778224/778224 [==============================] - 19s 24us/step - loss: 0.4737 - val_loss: 0.4332\n",
      "Epoch 64/100\n",
      "778224/778224 [==============================] - 19s 24us/step - loss: 0.4709 - val_loss: 0.4282\n",
      "Epoch 65/100\n",
      "778224/778224 [==============================] - 19s 24us/step - loss: 0.4769 - val_loss: 0.4320\n",
      "Epoch 66/100\n",
      "778224/778224 [==============================] - 19s 24us/step - loss: 0.4724 - val_loss: 0.4479\n",
      "Epoch 67/100\n",
      "778224/778224 [==============================] - 19s 24us/step - loss: 0.4833 - val_loss: 0.4492\n",
      "Epoch 68/100\n",
      "778224/778224 [==============================] - 19s 24us/step - loss: 0.4707 - val_loss: 0.4793\n",
      "Epoch 69/100\n",
      "778224/778224 [==============================] - 19s 24us/step - loss: 0.4692 - val_loss: 0.4259\n",
      "Epoch 70/100\n",
      "778224/778224 [==============================] - 19s 24us/step - loss: 0.4730 - val_loss: 0.4450\n",
      "Epoch 71/100\n",
      "778224/778224 [==============================] - 19s 24us/step - loss: 0.4797 - val_loss: 0.4292\n",
      "Epoch 72/100\n",
      "778224/778224 [==============================] - 19s 24us/step - loss: 0.4754 - val_loss: 0.4479\n",
      "Epoch 73/100\n",
      "778224/778224 [==============================] - 19s 24us/step - loss: 0.4700 - val_loss: 0.4408\n",
      "Epoch 74/100\n",
      "778224/778224 [==============================] - 19s 24us/step - loss: 0.4708 - val_loss: 0.4245\n",
      "Epoch 75/100\n"
     ]
    },
    {
     "name": "stdout",
     "output_type": "stream",
     "text": [
      "778224/778224 [==============================] - 18s 24us/step - loss: 0.4806 - val_loss: 0.4188\n",
      "Epoch 76/100\n",
      "778224/778224 [==============================] - 18s 23us/step - loss: 0.4727 - val_loss: 0.4387\n",
      "Epoch 77/100\n",
      "778224/778224 [==============================] - 18s 23us/step - loss: 0.4675 - val_loss: 0.4463\n",
      "Epoch 78/100\n",
      "778224/778224 [==============================] - 18s 24us/step - loss: 0.4745 - val_loss: 0.4281\n",
      "Epoch 79/100\n",
      "778224/778224 [==============================] - 18s 23us/step - loss: 0.4728 - val_loss: 0.4277\n",
      "Epoch 80/100\n",
      "778224/778224 [==============================] - 18s 23us/step - loss: 0.4776 - val_loss: 0.4441\n",
      "Epoch 81/100\n",
      "778224/778224 [==============================] - 18s 23us/step - loss: 0.4845 - val_loss: 0.4587\n",
      "Epoch 82/100\n",
      "778224/778224 [==============================] - 458s 589us/step - loss: 0.4863 - val_loss: 0.4662\n",
      "Epoch 83/100\n",
      "778224/778224 [==============================] - 20s 26us/step - loss: 0.4849 - val_loss: 0.4372\n",
      "Epoch 84/100\n",
      "778224/778224 [==============================] - 24s 31us/step - loss: 0.4815 - val_loss: 0.4424\n",
      "Epoch 85/100\n",
      "778224/778224 [==============================] - 19s 25us/step - loss: 0.4831 - val_loss: 0.4331\n",
      "Epoch 86/100\n",
      "778224/778224 [==============================] - 19s 25us/step - loss: 0.4872 - val_loss: 0.4739\n",
      "Epoch 87/100\n",
      "778224/778224 [==============================] - 21s 27us/step - loss: 0.4805 - val_loss: 0.4384\n",
      "Epoch 88/100\n",
      "778224/778224 [==============================] - 20s 25us/step - loss: 0.4841 - val_loss: 0.4481\n",
      "Epoch 89/100\n",
      "778224/778224 [==============================] - 19s 25us/step - loss: 0.4835 - val_loss: 0.4361\n",
      "Epoch 90/100\n",
      "778224/778224 [==============================] - 19s 24us/step - loss: 0.4822 - val_loss: 0.4375\n",
      "Epoch 91/100\n",
      "778224/778224 [==============================] - 18s 23us/step - loss: 0.4763 - val_loss: 0.4372\n",
      "Epoch 92/100\n",
      "778224/778224 [==============================] - 19s 24us/step - loss: 0.4912 - val_loss: 0.4588\n",
      "Epoch 93/100\n",
      "778224/778224 [==============================] - 19s 24us/step - loss: 0.4800 - val_loss: 0.4838\n",
      "Epoch 94/100\n",
      "778224/778224 [==============================] - 19s 25us/step - loss: 0.4896 - val_loss: 0.4386\n",
      "Epoch 95/100\n",
      "778224/778224 [==============================] - 19s 24us/step - loss: 0.4897 - val_loss: 0.4593\n",
      "Epoch 96/100\n",
      "778224/778224 [==============================] - 18s 24us/step - loss: 0.4905 - val_loss: 0.4492\n",
      "Epoch 97/100\n",
      "778224/778224 [==============================] - 19s 24us/step - loss: 0.4875 - val_loss: 0.4553\n",
      "Epoch 98/100\n",
      "778224/778224 [==============================] - 18s 24us/step - loss: 0.4902 - val_loss: 0.4466\n",
      "Epoch 99/100\n",
      "778224/778224 [==============================] - 19s 24us/step - loss: 0.4777 - val_loss: 0.4419\n",
      "Epoch 100/100\n",
      "778224/778224 [==============================] - 19s 24us/step - loss: 0.4766 - val_loss: 0.4365\n"
     ]
    }
   ],
   "source": [
    "nb_epoch = 100\n",
    "batch_size = 500\n",
    "\n",
    "autoencoder.compile(optimizer='adam', \n",
    "                    loss='mean_squared_error')\n",
    "\n",
    "checkpointer = ModelCheckpoint(filepath=\"model.h5\",\n",
    "                               verbose=0,\n",
    "                               save_best_only=True)\n",
    "earlystopping = EarlyStopping(monitor='val_loss', patience=1, verbose=0) # 'patience' number of not improving epochs\n",
    "history = autoencoder.fit(X_trainNorm_val, X_trainNorm_val,\n",
    "                    epochs=nb_epoch,\n",
    "                    batch_size=batch_size,\n",
    "                    shuffle=True,\n",
    "                    validation_data=(X_testNorm_val, X_testNorm_val),\n",
    "                    verbose=1,\n",
    "                    callbacks=[checkpointer, #tensorboard, \n",
    "                               #earlystopping\n",
    "                              ]).history"
   ]
  },
  {
   "cell_type": "markdown",
   "metadata": {},
   "source": [
    "Model 1 evolution"
   ]
  },
  {
   "cell_type": "code",
   "execution_count": 27,
   "metadata": {},
   "outputs": [
    {
     "data": {
      "image/png": "[encoded data removed]",
      "text/plain": [
       "<Figure size 1008x576 with 1 Axes>"
      ]
     },
     "metadata": {},
     "output_type": "display_data"
    }
   ],
   "source": [
    "plt.plot(history['loss'])\n",
    "plt.plot(history['val_loss'])\n",
    "plt.title('model loss')\n",
    "plt.ylabel('loss')\n",
    "plt.xlabel('epoch')\n",
    "plt.legend(['train', 'test'], loc='upper right');"
   ]
  },
  {
   "cell_type": "markdown",
   "metadata": {},
   "source": [
    "### Trying another model"
   ]
  },
  {
   "cell_type": "code",
   "execution_count": 28,
   "metadata": {
    "collapsed": true
   },
   "outputs": [],
   "source": [
    "input_dim = X_trainNorm_val.shape[1]\n",
    "layer1_dim = 40\n",
    "layer3_dim = 20\n",
    "encoder_dim = 10"
   ]
  },
  {
   "cell_type": "code",
   "execution_count": 29,
   "metadata": {},
   "outputs": [
    {
     "name": "stdout",
     "output_type": "stream",
     "text": [
      "input_layer:  Tensor(\"input_2:0\", shape=(?, 81), dtype=float32)\n",
      "encoder1 Tensor(\"dense_9/Tanh:0\", shape=(?, 40), dtype=float32)\n",
      "encoder3 Tensor(\"dense_10/Relu:0\", shape=(?, 20), dtype=float32)\n",
      "encoder4 Tensor(\"dense_11/Relu:0\", shape=(?, 10), dtype=float32)\n",
      "decoder1 Tensor(\"dense_12/Relu:0\", shape=(?, 20), dtype=float32)\n",
      "decoder3 Tensor(\"dense_13/Tanh:0\", shape=(?, 40), dtype=float32)\n",
      "decoder4 Tensor(\"dense_14/BiasAdd:0\", shape=(?, 81), dtype=float32)\n"
     ]
    }
   ],
   "source": [
    "input_layer = Input(shape=(input_dim, ))\n",
    "\n",
    "dropout_rate = 0.0\n",
    "\n",
    "encoder1 = Dense(layer1_dim, activation=\"tanh\", \n",
    "                activity_regularizer=regularizers.l1(10e-5))(input_layer)\n",
    "dropout_layer1 = Dropout(rate=dropout_rate)(encoder1, training=True)\n",
    "norm_1 = BatchNormalization()(dropout_layer1)\n",
    "\n",
    "#encoder2 = Dense(layer2_dim, activation=\"relu\")(norm_1)\n",
    "#dropout_layer2 = Dropout(rate=dropout_rate)(encoder2, training=True)\n",
    "#norm_2 = BatchNormalization()(dropout_layer2)\n",
    "\n",
    "encoder3 = Dense(layer3_dim, activation=\"relu\")(norm_1)\n",
    "dropout_layer3 = Dropout(rate=dropout_rate)(encoder3, training=True)\n",
    "norm_3 = BatchNormalization()(dropout_layer3)\n",
    "\n",
    "encoder4 = Dense(encoder_dim, activation=\"relu\")(norm_3)\n",
    "dropout_layer4 = Dropout(rate=dropout_rate)(encoder4, training=True)\n",
    "norm_4 = BatchNormalization()(dropout_layer4)\n",
    "\n",
    "decoder1 = Dense(layer3_dim, activation='relu')(norm_4)\n",
    "dropout_layer5 = Dropout(rate=dropout_rate)(decoder1, training=True)\n",
    "norm_5 = BatchNormalization()(dropout_layer5)\n",
    "\n",
    "#decoder2 = Dense(layer2_dim, activation='relu')(norm_5)\n",
    "#dropout_layer6 = Dropout(rate=dropout_rate)(decoder2, training=True)\n",
    "#norm_6 = BatchNormalization()(dropout_layer6)\n",
    "\n",
    "decoder3 = Dense(layer1_dim, activation='tanh')(norm_4)\n",
    "dropout_layer7 = Dropout(rate=dropout_rate)(decoder3, training=True)\n",
    "norm_7 = BatchNormalization()(dropout_layer7)\n",
    "\n",
    "decoder4 = Dense(input_dim, activation='linear')(norm_7)\n",
    "\n",
    "print('input_layer: ',input_layer)\n",
    "print('encoder1',encoder1)\n",
    "#print('encoder2',encoder2)\n",
    "print('encoder3',encoder3)\n",
    "print('encoder4',encoder4)\n",
    "print('decoder1',decoder1)\n",
    "#print('decoder2',decoder2)\n",
    "print('decoder3',decoder3)\n",
    "print('decoder4',decoder4)"
   ]
  },
  {
   "cell_type": "code",
   "execution_count": 30,
   "metadata": {},
   "outputs": [
    {
     "name": "stdout",
     "output_type": "stream",
     "text": [
      "_________________________________________________________________\n",
      "Layer (type)                 Output Shape              Param #   \n",
      "=================================================================\n",
      "input_2 (InputLayer)         (None, 81)                0         \n",
      "_________________________________________________________________\n",
      "dense_9 (Dense)              (None, 40)                3280      \n",
      "_________________________________________________________________\n",
      "dropout_7 (Dropout)          (None, 40)                0         \n",
      "_________________________________________________________________\n",
      "batch_normalization_7 (Batch (None, 40)                160       \n",
      "_________________________________________________________________\n",
      "dense_10 (Dense)             (None, 20)                820       \n",
      "_________________________________________________________________\n",
      "dropout_8 (Dropout)          (None, 20)                0         \n",
      "_________________________________________________________________\n",
      "batch_normalization_8 (Batch (None, 20)                80        \n",
      "_________________________________________________________________\n",
      "dense_11 (Dense)             (None, 10)                210       \n",
      "_________________________________________________________________\n",
      "dropout_9 (Dropout)          (None, 10)                0         \n",
      "_________________________________________________________________\n",
      "batch_normalization_9 (Batch (None, 10)                40        \n",
      "_________________________________________________________________\n",
      "dense_13 (Dense)             (None, 40)                440       \n",
      "_________________________________________________________________\n",
      "dropout_11 (Dropout)         (None, 40)                0         \n",
      "_________________________________________________________________\n",
      "batch_normalization_11 (Batc (None, 40)                160       \n",
      "_________________________________________________________________\n",
      "dense_14 (Dense)             (None, 81)                3321      \n",
      "=================================================================\n",
      "Total params: 8,511\n",
      "Trainable params: 8,291\n",
      "Non-trainable params: 220\n",
      "_________________________________________________________________\n"
     ]
    }
   ],
   "source": [
    "autoencoder2 = Model(inputs=input_layer, outputs=decoder4)\n",
    "autoencoder2.summary()"
   ]
  },
  {
   "cell_type": "code",
   "execution_count": 31,
   "metadata": {},
   "outputs": [
    {
     "name": "stdout",
     "output_type": "stream",
     "text": [
      "Train on 778224 samples, validate on 194557 samples\n",
      "Epoch 1/100\n",
      "778224/778224 [==============================] - 14s 18us/step - loss: 0.6075 - val_loss: 0.4036\n",
      "Epoch 2/100\n",
      "778224/778224 [==============================] - 12s 15us/step - loss: 0.3995 - val_loss: 0.3376\n",
      "Epoch 3/100\n",
      "778224/778224 [==============================] - 12s 15us/step - loss: 0.3577 - val_loss: 0.3094\n",
      "Epoch 4/100\n",
      "778224/778224 [==============================] - 12s 15us/step - loss: 0.3387 - val_loss: 0.3010\n",
      "Epoch 5/100\n",
      "778224/778224 [==============================] - 12s 15us/step - loss: 0.3259 - val_loss: 0.2912\n",
      "Epoch 6/100\n",
      "778224/778224 [==============================] - 12s 15us/step - loss: 0.3182 - val_loss: 0.2862\n",
      "Epoch 7/100\n",
      "778224/778224 [==============================] - 12s 16us/step - loss: 0.3121 - val_loss: 0.2754\n",
      "Epoch 8/100\n",
      "778224/778224 [==============================] - 12s 15us/step - loss: 0.3041 - val_loss: 0.2864\n",
      "Epoch 9/100\n",
      "778224/778224 [==============================] - 12s 15us/step - loss: 0.3031 - val_loss: 0.2861\n",
      "Epoch 10/100\n",
      "778224/778224 [==============================] - 12s 15us/step - loss: 0.2963 - val_loss: 0.2977\n",
      "Epoch 11/100\n",
      "778224/778224 [==============================] - 12s 15us/step - loss: 0.2942 - val_loss: 0.2783\n",
      "Epoch 12/100\n",
      "778224/778224 [==============================] - 12s 15us/step - loss: 0.2908 - val_loss: 0.2980\n",
      "Epoch 13/100\n",
      "778224/778224 [==============================] - 13s 17us/step - loss: 0.2884 - val_loss: 0.2969\n",
      "Epoch 14/100\n",
      "778224/778224 [==============================] - 13s 16us/step - loss: 0.2881 - val_loss: 0.3210\n",
      "Epoch 15/100\n",
      "778224/778224 [==============================] - 12s 16us/step - loss: 0.2839 - val_loss: 0.3842\n",
      "Epoch 16/100\n",
      "778224/778224 [==============================] - 12s 16us/step - loss: 0.2833 - val_loss: 0.2805\n",
      "Epoch 17/100\n",
      "778224/778224 [==============================] - 13s 17us/step - loss: 0.2802 - val_loss: 0.3075\n",
      "Epoch 18/100\n",
      "778224/778224 [==============================] - 12s 15us/step - loss: 0.2763 - val_loss: 0.2808\n",
      "Epoch 19/100\n",
      "778224/778224 [==============================] - 12s 15us/step - loss: 0.2776 - val_loss: 0.2840\n",
      "Epoch 20/100\n",
      "778224/778224 [==============================] - 12s 15us/step - loss: 0.2785 - val_loss: 0.2902\n",
      "Epoch 21/100\n",
      "778224/778224 [==============================] - 12s 15us/step - loss: 0.2781 - val_loss: 0.2788\n",
      "Epoch 22/100\n",
      "778224/778224 [==============================] - 11s 15us/step - loss: 0.2730 - val_loss: 0.2955\n",
      "Epoch 23/100\n",
      "778224/778224 [==============================] - 12s 15us/step - loss: 0.2711 - val_loss: 0.2866\n",
      "Epoch 24/100\n",
      "778224/778224 [==============================] - 13s 17us/step - loss: 0.2730 - val_loss: 0.2823\n",
      "Epoch 25/100\n",
      "778224/778224 [==============================] - 12s 15us/step - loss: 0.2711 - val_loss: 0.2855\n",
      "Epoch 26/100\n",
      "778224/778224 [==============================] - 12s 15us/step - loss: 0.2739 - val_loss: 0.3061\n",
      "Epoch 27/100\n",
      "778224/778224 [==============================] - 13s 17us/step - loss: 0.2825 - val_loss: 0.2829\n",
      "Epoch 28/100\n",
      "778224/778224 [==============================] - 13s 16us/step - loss: 0.2683 - val_loss: 0.2898\n",
      "Epoch 29/100\n",
      "778224/778224 [==============================] - 12s 16us/step - loss: 0.2705 - val_loss: 0.2900\n",
      "Epoch 30/100\n",
      "778224/778224 [==============================] - 12s 16us/step - loss: 0.2681 - val_loss: 0.2869\n",
      "Epoch 31/100\n",
      "778224/778224 [==============================] - 12s 16us/step - loss: 0.2686 - val_loss: 0.2964\n",
      "Epoch 32/100\n",
      "778224/778224 [==============================] - 12s 15us/step - loss: 0.2720 - val_loss: 0.2859\n",
      "Epoch 33/100\n",
      "778224/778224 [==============================] - 12s 15us/step - loss: 0.2671 - val_loss: 0.2954\n",
      "Epoch 34/100\n",
      "778224/778224 [==============================] - 12s 16us/step - loss: 0.2700 - val_loss: 0.2831\n",
      "Epoch 35/100\n",
      "778224/778224 [==============================] - 14s 18us/step - loss: 0.2687 - val_loss: 0.3681\n",
      "Epoch 36/100\n",
      "778224/778224 [==============================] - 13s 17us/step - loss: 0.2709 - val_loss: 0.3113\n",
      "Epoch 37/100\n",
      "778224/778224 [==============================] - 14s 18us/step - loss: 0.2617 - val_loss: 0.2901\n",
      "Epoch 38/100\n",
      "778224/778224 [==============================] - 13s 17us/step - loss: 0.2692 - val_loss: 0.2998\n",
      "Epoch 39/100\n",
      "778224/778224 [==============================] - 13s 17us/step - loss: 0.2616 - val_loss: 0.2946\n",
      "Epoch 40/100\n",
      "778224/778224 [==============================] - 13s 16us/step - loss: 0.2610 - val_loss: 0.2936\n",
      "Epoch 41/100\n",
      "778224/778224 [==============================] - 12s 16us/step - loss: 0.2625 - val_loss: 0.3369\n",
      "Epoch 42/100\n",
      "778224/778224 [==============================] - 12s 16us/step - loss: 0.2696 - val_loss: 0.2884\n",
      "Epoch 43/100\n",
      "778224/778224 [==============================] - 12s 16us/step - loss: 0.2575 - val_loss: 0.3040\n",
      "Epoch 44/100\n",
      "778224/778224 [==============================] - 12s 16us/step - loss: 0.2675 - val_loss: 0.3006\n",
      "Epoch 45/100\n",
      "778224/778224 [==============================] - 13s 17us/step - loss: 0.2631 - val_loss: 0.2953\n",
      "Epoch 46/100\n",
      "778224/778224 [==============================] - 13s 17us/step - loss: 0.2668 - val_loss: 0.3025\n",
      "Epoch 47/100\n",
      "778224/778224 [==============================] - 15s 19us/step - loss: 0.2662 - val_loss: 0.3150\n",
      "Epoch 48/100\n",
      "778224/778224 [==============================] - 13s 17us/step - loss: 0.2670 - val_loss: 0.2981\n",
      "Epoch 49/100\n",
      "778224/778224 [==============================] - 12s 16us/step - loss: 0.2588 - val_loss: 0.3098\n",
      "Epoch 50/100\n",
      "778224/778224 [==============================] - 12s 16us/step - loss: 0.2583 - val_loss: 0.2949\n",
      "Epoch 51/100\n",
      "778224/778224 [==============================] - 12s 16us/step - loss: 0.2605 - val_loss: 0.2869\n",
      "Epoch 52/100\n",
      "778224/778224 [==============================] - 12s 15us/step - loss: 0.2621 - val_loss: 0.2866\n",
      "Epoch 53/100\n",
      "778224/778224 [==============================] - 12s 15us/step - loss: 0.2574 - val_loss: 0.3012\n",
      "Epoch 54/100\n",
      "778224/778224 [==============================] - 12s 15us/step - loss: 0.2613 - val_loss: 0.3043\n",
      "Epoch 55/100\n",
      "778224/778224 [==============================] - 12s 16us/step - loss: 0.2632 - val_loss: 0.2837\n",
      "Epoch 56/100\n",
      "778224/778224 [==============================] - 14s 17us/step - loss: 0.2564 - val_loss: 0.2971\n",
      "Epoch 57/100\n",
      "778224/778224 [==============================] - 14s 18us/step - loss: 0.2558 - val_loss: 0.2915\n",
      "Epoch 58/100\n",
      "778224/778224 [==============================] - 13s 17us/step - loss: 0.2746 - val_loss: 0.2917\n",
      "Epoch 59/100\n",
      "778224/778224 [==============================] - 12s 15us/step - loss: 0.2537 - val_loss: 0.2834\n",
      "Epoch 60/100\n",
      "778224/778224 [==============================] - 12s 16us/step - loss: 0.2567 - val_loss: 0.2886\n",
      "Epoch 61/100\n",
      "778224/778224 [==============================] - 12s 15us/step - loss: 0.2533 - val_loss: 0.2936\n",
      "Epoch 62/100\n",
      "778224/778224 [==============================] - 12s 16us/step - loss: 0.2508 - val_loss: 0.3016\n",
      "Epoch 63/100\n",
      "778224/778224 [==============================] - 12s 15us/step - loss: 0.2577 - val_loss: 0.2864\n",
      "Epoch 64/100\n",
      "778224/778224 [==============================] - 11s 15us/step - loss: 0.2535 - val_loss: 0.3437\n",
      "Epoch 65/100\n",
      "778224/778224 [==============================] - 12s 16us/step - loss: 0.2613 - val_loss: 0.3310\n",
      "Epoch 66/100\n",
      "778224/778224 [==============================] - 12s 15us/step - loss: 0.2563 - val_loss: 0.2907\n",
      "Epoch 67/100\n",
      "778224/778224 [==============================] - 12s 15us/step - loss: 0.2498 - val_loss: 0.3042\n",
      "Epoch 68/100\n",
      "778224/778224 [==============================] - 12s 15us/step - loss: 0.2523 - val_loss: 0.2908\n",
      "Epoch 69/100\n",
      "778224/778224 [==============================] - 13s 17us/step - loss: 0.2573 - val_loss: 0.3021\n",
      "Epoch 70/100\n",
      "778224/778224 [==============================] - 13s 16us/step - loss: 0.2535 - val_loss: 0.2786\n",
      "Epoch 71/100\n",
      "778224/778224 [==============================] - 12s 15us/step - loss: 0.2517 - val_loss: 0.3234\n",
      "Epoch 72/100\n",
      "778224/778224 [==============================] - 12s 16us/step - loss: 0.2688 - val_loss: 0.3055\n",
      "Epoch 73/100\n",
      "778224/778224 [==============================] - 12s 15us/step - loss: 0.2513 - val_loss: 0.2866\n",
      "Epoch 74/100\n",
      "778224/778224 [==============================] - 12s 16us/step - loss: 0.2547 - val_loss: 0.3081\n",
      "Epoch 75/100\n"
     ]
    },
    {
     "name": "stdout",
     "output_type": "stream",
     "text": [
      "778224/778224 [==============================] - 12s 15us/step - loss: 0.2487 - val_loss: 0.2897\n",
      "Epoch 76/100\n",
      "778224/778224 [==============================] - 12s 15us/step - loss: 0.2485 - val_loss: 0.2905\n",
      "Epoch 77/100\n",
      "778224/778224 [==============================] - 12s 15us/step - loss: 0.2525 - val_loss: 0.3034\n",
      "Epoch 78/100\n",
      "778224/778224 [==============================] - 12s 16us/step - loss: 0.2552 - val_loss: 0.3451\n",
      "Epoch 79/100\n",
      "778224/778224 [==============================] - 12s 15us/step - loss: 0.2557 - val_loss: 0.2983\n",
      "Epoch 80/100\n",
      "778224/778224 [==============================] - 12s 15us/step - loss: 0.2546 - val_loss: 0.2881\n",
      "Epoch 81/100\n",
      "778224/778224 [==============================] - 13s 17us/step - loss: 0.2492 - val_loss: 0.3029\n",
      "Epoch 82/100\n",
      "778224/778224 [==============================] - 12s 15us/step - loss: 0.2578 - val_loss: 0.2914\n",
      "Epoch 83/100\n",
      "778224/778224 [==============================] - 12s 15us/step - loss: 0.2482 - val_loss: 0.4145\n",
      "Epoch 84/100\n",
      "778224/778224 [==============================] - 12s 15us/step - loss: 0.2513 - val_loss: 0.3108\n",
      "Epoch 85/100\n",
      "778224/778224 [==============================] - 12s 15us/step - loss: 0.2444 - val_loss: 0.3051\n",
      "Epoch 86/100\n",
      "778224/778224 [==============================] - 12s 15us/step - loss: 0.2538 - val_loss: 0.2960\n",
      "Epoch 87/100\n",
      "778224/778224 [==============================] - 11s 15us/step - loss: 0.2507 - val_loss: 0.3229\n",
      "Epoch 88/100\n",
      "778224/778224 [==============================] - 13s 17us/step - loss: 0.2804 - val_loss: 0.3048\n",
      "Epoch 89/100\n",
      "778224/778224 [==============================] - 13s 16us/step - loss: 0.2520 - val_loss: 0.2963\n",
      "Epoch 90/100\n",
      "778224/778224 [==============================] - 12s 15us/step - loss: 0.2532 - val_loss: 0.2936\n",
      "Epoch 91/100\n",
      "778224/778224 [==============================] - 12s 15us/step - loss: 0.2514 - val_loss: 0.3081\n",
      "Epoch 92/100\n",
      "778224/778224 [==============================] - 12s 15us/step - loss: 0.2486 - val_loss: 0.3510\n",
      "Epoch 93/100\n",
      "778224/778224 [==============================] - 12s 15us/step - loss: 0.2448 - val_loss: 0.3065\n",
      "Epoch 94/100\n",
      "778224/778224 [==============================] - 12s 15us/step - loss: 0.2449 - val_loss: 0.2925\n",
      "Epoch 95/100\n",
      "778224/778224 [==============================] - 12s 15us/step - loss: 0.2496 - val_loss: 0.3038\n",
      "Epoch 96/100\n",
      "778224/778224 [==============================] - 12s 15us/step - loss: 0.3113 - val_loss: 0.3241\n",
      "Epoch 97/100\n",
      "778224/778224 [==============================] - 12s 15us/step - loss: 0.2546 - val_loss: 0.3091\n",
      "Epoch 98/100\n",
      "778224/778224 [==============================] - 12s 15us/step - loss: 0.2503 - val_loss: 0.2992\n",
      "Epoch 99/100\n",
      "778224/778224 [==============================] - 12s 15us/step - loss: 0.2480 - val_loss: 0.2876\n",
      "Epoch 100/100\n",
      "778224/778224 [==============================] - 12s 15us/step - loss: 0.2450 - val_loss: 0.3238\n"
     ]
    }
   ],
   "source": [
    "nb_epoch = 100\n",
    "batch_size = 500\n",
    "\n",
    "autoencoder2.compile(optimizer='adam', \n",
    "                    loss='mean_squared_error')\n",
    "\n",
    "checkpointer = ModelCheckpoint(filepath=\"model2.h5\",\n",
    "                               verbose=0,\n",
    "                               save_best_only=True)\n",
    "earlystopping = EarlyStopping(monitor='val_loss', patience=1, verbose=0) # 'patience' number of not improving epochs\n",
    "history = autoencoder2.fit(X_trainNorm_val, X_trainNorm_val,\n",
    "                    epochs=nb_epoch,\n",
    "                    batch_size=batch_size,\n",
    "                    shuffle=True,\n",
    "                    validation_data=(X_testNorm_val, X_testNorm_val),\n",
    "                    verbose=1,\n",
    "                    callbacks=[checkpointer, #tensorboard, \n",
    "                               #earlystopping\n",
    "                              ]).history"
   ]
  },
  {
   "cell_type": "code",
   "execution_count": 32,
   "metadata": {},
   "outputs": [
    {
     "data": {
      "text/plain": [
       "0.2754305296418679"
      ]
     },
     "execution_count": 32,
     "metadata": {},
     "output_type": "execute_result"
    }
   ],
   "source": [
    "### finding the minimum vaidation loss from the above algorithm and then use that optimal number of epochs\n",
    "min(history['val_loss'])"
   ]
  },
  {
   "cell_type": "markdown",
   "metadata": {},
   "source": [
    "### Loading the autoencoder model "
   ]
  },
  {
   "cell_type": "code",
   "execution_count": 33,
   "metadata": {
    "collapsed": true
   },
   "outputs": [],
   "source": [
    "autoencoder = load_model('model2.h5')"
   ]
  },
  {
   "cell_type": "markdown",
   "metadata": {},
   "source": [
    "# Evaluation\n",
    "\n",
    "Visualize the learning process.\n",
    "\n",
    "For model 2"
   ]
  },
  {
   "cell_type": "code",
   "execution_count": 34,
   "metadata": {},
   "outputs": [
    {
     "data": {
      "image/png": "[encoded data removed]",
      "text/plain": [
       "<Figure size 1008x576 with 1 Axes>"
      ]
     },
     "metadata": {},
     "output_type": "display_data"
    }
   ],
   "source": [
    "plt.plot(history['loss'])\n",
    "plt.plot(history['val_loss'])\n",
    "plt.title('model loss')\n",
    "plt.ylabel('loss')\n",
    "plt.xlabel('epoch')\n",
    "plt.legend(['train', 'test'], loc='upper right');"
   ]
  },
  {
   "cell_type": "markdown",
   "metadata": {},
   "source": [
    "The reconstruction errors on both train and test data converge nicely. \n",
    "\n",
    "Calculate predictions by the autoencoder:"
   ]
  },
  {
   "cell_type": "code",
   "execution_count": 35,
   "metadata": {},
   "outputs": [
    {
     "data": {
      "text/plain": [
       "((197053, 81), (197053, 81))"
      ]
     },
     "execution_count": 35,
     "metadata": {},
     "output_type": "execute_result"
    }
   ],
   "source": [
    "testPredictions = autoencoder.predict(X_test)\n",
    "X_test.shape,testPredictions.shape"
   ]
  },
  {
   "cell_type": "markdown",
   "metadata": {},
   "source": [
    "Calculate **mean squared error**."
   ]
  },
  {
   "cell_type": "code",
   "execution_count": 36,
   "metadata": {},
   "outputs": [
    {
     "data": {
      "text/html": [
       "<div>\n",
       "<style scoped>\n",
       "    .dataframe tbody tr th:only-of-type {\n",
       "        vertical-align: middle;\n",
       "    }\n",
       "\n",
       "    .dataframe tbody tr th {\n",
       "        vertical-align: top;\n",
       "    }\n",
       "\n",
       "    .dataframe thead th {\n",
       "        text-align: right;\n",
       "    }\n",
       "</style>\n",
       "<table border=\"1\" class=\"dataframe\">\n",
       "  <thead>\n",
       "    <tr style=\"text-align: right;\">\n",
       "      <th></th>\n",
       "      <th>reconstruction_error</th>\n",
       "      <th>true_class</th>\n",
       "    </tr>\n",
       "  </thead>\n",
       "  <tbody>\n",
       "    <tr>\n",
       "      <th>940543</th>\n",
       "      <td>0.194870</td>\n",
       "      <td>1</td>\n",
       "    </tr>\n",
       "    <tr>\n",
       "      <th>356110</th>\n",
       "      <td>0.054946</td>\n",
       "      <td>0</td>\n",
       "    </tr>\n",
       "    <tr>\n",
       "      <th>540178</th>\n",
       "      <td>0.007647</td>\n",
       "      <td>0</td>\n",
       "    </tr>\n",
       "    <tr>\n",
       "      <th>672514</th>\n",
       "      <td>0.023893</td>\n",
       "      <td>0</td>\n",
       "    </tr>\n",
       "    <tr>\n",
       "      <th>244980</th>\n",
       "      <td>0.005214</td>\n",
       "      <td>0</td>\n",
       "    </tr>\n",
       "  </tbody>\n",
       "</table>\n",
       "</div>"
      ],
      "text/plain": [
       "        reconstruction_error  true_class\n",
       "940543              0.194870           1\n",
       "356110              0.054946           0\n",
       "540178              0.007647           0\n",
       "672514              0.023893           0\n",
       "244980              0.005214           0"
      ]
     },
     "execution_count": 36,
     "metadata": {},
     "output_type": "execute_result"
    }
   ],
   "source": [
    "testMSE = mean_squared_error(X_test.transpose(), testPredictions.transpose(),\n",
    "                              multioutput='raw_values')\n",
    "error_df = pd.DataFrame({'reconstruction_error': testMSE,'true_class': y_test})\n",
    "error_df.head()"
   ]
  },
  {
   "cell_type": "code",
   "execution_count": 37,
   "metadata": {},
   "outputs": [
    {
     "data": {
      "text/plain": [
       "(197053, 2)"
      ]
     },
     "execution_count": 37,
     "metadata": {},
     "output_type": "execute_result"
    }
   ],
   "source": [
    "error_df.shape"
   ]
  },
  {
   "cell_type": "code",
   "execution_count": 38,
   "metadata": {},
   "outputs": [
    {
     "data": {
      "text/plain": [
       "count    197053.000000\n",
       "mean          0.346724\n",
       "std          27.030055\n",
       "min           0.003131\n",
       "25%           0.006600\n",
       "50%           0.012031\n",
       "75%           0.035988\n",
       "max        8676.851092\n",
       "Name: reconstruction_error, dtype: float64"
      ]
     },
     "execution_count": 38,
     "metadata": {},
     "output_type": "execute_result"
    }
   ],
   "source": [
    "error_df.reconstruction_error.describe()"
   ]
  },
  {
   "cell_type": "markdown",
   "metadata": {},
   "source": [
    "## Reconstruction errors for normal transactions\n",
    "\n",
    "Plot histogram of errors of reconstruction for normal data."
   ]
  },
  {
   "cell_type": "code",
   "execution_count": 39,
   "metadata": {},
   "outputs": [
    {
     "data": {
      "image/png": "[encoded data removed]",
      "text/plain": [
       "<Figure size 1008x576 with 1 Axes>"
      ]
     },
     "metadata": {},
     "output_type": "display_data"
    }
   ],
   "source": [
    "fig = plt.figure()\n",
    "ax = fig.add_subplot(111)\n",
    "normal_error_df = error_df[(error_df['true_class']== 0) & (error_df['reconstruction_error'] < 10)]\n",
    "ax.hist(normal_error_df.reconstruction_error.values, bins=10);"
   ]
  },
  {
   "cell_type": "markdown",
   "metadata": {},
   "source": [
    "## Reconstruction errors for fraudulent transactions\n",
    "\n",
    "Compare distribution of reconstruction error for normal data and for fraudulent data."
   ]
  },
  {
   "cell_type": "code",
   "execution_count": 40,
   "metadata": {},
   "outputs": [
    {
     "data": {
      "image/png": "[encoded data removed]",
      "text/plain": [
       "<Figure size 1008x576 with 1 Axes>"
      ]
     },
     "metadata": {},
     "output_type": "display_data"
    }
   ],
   "source": [
    "fig = plt.figure()\n",
    "ax = fig.add_subplot(111)\n",
    "fraud_error_df = error_df[error_df['true_class'] == 1]\n",
    "ax.hist(fraud_error_df.reconstruction_error.values, bins=10);"
   ]
  },
  {
   "cell_type": "markdown",
   "metadata": {},
   "source": [
    "### Calculating the AUC and ROC curve"
   ]
  },
  {
   "cell_type": "code",
   "execution_count": 41,
   "metadata": {},
   "outputs": [
    {
     "data": {
      "image/png": "[encoded data removed]",
      "text/plain": [
       "<Figure size 1008x576 with 1 Axes>"
      ]
     },
     "metadata": {},
     "output_type": "display_data"
    }
   ],
   "source": [
    "fpr, tpr, thresholds = roc_curve(error_df.true_class, error_df.reconstruction_error)\n",
    "roc_auc = auc(fpr, tpr)\n",
    "\n",
    "plt.title('Receiver Operating Characteristic')\n",
    "plt.plot(fpr, tpr, label='AUC = %0.4f'% roc_auc)\n",
    "plt.legend(loc='lower right')\n",
    "plt.plot([0,1],[0,1],'r--')\n",
    "plt.xlim([-0.001, 1])\n",
    "plt.ylim([0, 1.001])\n",
    "plt.ylabel('True Positive Rate')\n",
    "plt.xlabel('False Positive Rate')\n",
    "plt.show();"
   ]
  },
  {
   "cell_type": "markdown",
   "metadata": {},
   "source": [
    "The AUC from the above graph seems to be pretty high. \n",
    "\n",
    "# Prediction\n",
    "\n",
    "To detect fraud based on prediction MSE select a high level quantile of the MSE sample that guarantees probability of type 1 error. Select 0.99 quantile of the reconstruction error for \"normal\" class."
   ]
  },
  {
   "cell_type": "code",
   "execution_count": 42,
   "metadata": {},
   "outputs": [
    {
     "data": {
      "text/plain": [
       "1.0688835046183405"
      ]
     },
     "execution_count": 42,
     "metadata": {},
     "output_type": "execute_result"
    }
   ],
   "source": [
    "threshold = normal_error_df.reconstruction_error.quantile(q=0.995)\n",
    "threshold"
   ]
  },
  {
   "cell_type": "markdown",
   "metadata": {},
   "source": [
    "Plot all errors, normal and fraud cases marked, and the threshold:"
   ]
  },
  {
   "cell_type": "code",
   "execution_count": 43,
   "metadata": {},
   "outputs": [
    {
     "data": {
      "image/png": "[encoded data removed]",
      "text/plain": [
       "<Figure size 1008x576 with 1 Axes>"
      ]
     },
     "metadata": {},
     "output_type": "display_data"
    }
   ],
   "source": [
    "groups = error_df.groupby('true_class')\n",
    "fig, ax = plt.subplots()\n",
    "for name, group in groups:\n",
    "    if name == 1:\n",
    "        MarkerSize = 7\n",
    "        Color = 'orangered'\n",
    "        Label = 'Fraud'\n",
    "        Marker = 'd'\n",
    "    else:\n",
    "        MarkerSize = 3.5\n",
    "        Color = 'b'\n",
    "        Label = 'Normal'\n",
    "        Marker = 'o'\n",
    "    ax.plot(group.index, group.reconstruction_error, \n",
    "            linestyle='',\n",
    "            color=Color,\n",
    "            label=Label,\n",
    "            ms=MarkerSize,\n",
    "            marker=Marker)\n",
    "ax.hlines(threshold, ax.get_xlim()[0], ax.get_xlim()[1], colors=\"r\", zorder=100, label='Threshold')\n",
    "ax.legend(loc='upper left', bbox_to_anchor=(0.95, 1))\n",
    "plt.title(\"Probabilities of fraud for different classes\")\n",
    "plt.ylabel(\"Reconstruction error\")\n",
    "plt.xlabel(\"Data point index\")\n",
    "plt.show();"
   ]
  },
  {
   "cell_type": "markdown",
   "metadata": {},
   "source": [
    "To draw more precise conclusions calculate confusion matrix:"
   ]
  },
  {
   "cell_type": "code",
   "execution_count": 44,
   "metadata": {},
   "outputs": [
    {
     "data": {
      "image/png": "[encoded data removed]",
      "text/plain": [
       "<Figure size 864x864 with 2 Axes>"
      ]
     },
     "metadata": {},
     "output_type": "display_data"
    }
   ],
   "source": [
    "y_pred = [1 if e > threshold else 0 for e in error_df.reconstruction_error.values]\n",
    "conf_matrix = confusion_matrix(error_df.true_class, y_pred)\n",
    "\n",
    "plt.figure(figsize=(12, 12))\n",
    "sns.heatmap(conf_matrix, xticklabels=LABELS, yticklabels=LABELS, annot=True, fmt=\"d\");\n",
    "plt.title(\"Confusion matrix\")\n",
    "plt.ylabel('True class')\n",
    "plt.xlabel('Predicted class')\n",
    "plt.show()"
   ]
  },
  {
   "cell_type": "code",
   "execution_count": 45,
   "metadata": {},
   "outputs": [
    {
     "data": {
      "text/plain": [
       "(0.28779153432359783, 0.9842326683684085)"
      ]
     },
     "execution_count": 45,
     "metadata": {},
     "output_type": "execute_result"
    }
   ],
   "source": [
    "cohen_kappa_score(error_df.true_class, y_pred),accuracy_score(error_df.true_class, y_pred)"
   ]
  },
  {
   "cell_type": "markdown",
   "metadata": {},
   "source": [
    "The model manages to detect many fraudulent cases with accuracy over 99%. However, because of extreme prevalence Cohen's kappa gives a much more conservative evaluation. "
   ]
  },
  {
   "cell_type": "markdown",
   "metadata": {},
   "source": [
    "### Model Evaluation\n",
    "\n",
    "Testing the model on the testing data set and then checking if the results are acceptable"
   ]
  },
  {
   "cell_type": "code",
   "execution_count": 46,
   "metadata": {},
   "outputs": [
    {
     "name": "stdout",
     "output_type": "stream",
     "text": [
      "   0    1        2   3     4      5   6   7   8   9  ...    31   32    33  \\\n",
      "0   0  tcp     http  SF   230  10066   0   0   0   0 ...   255  255  1.00   \n",
      "1   0  udp  private  SF   105    145   0   0   0   0 ...   255  227  0.89   \n",
      "2   1  tcp     smtp  SF  1888    374   0   0   0   0 ...   255  174  0.68   \n",
      "\n",
      "     34   35   36   37   38   39   40  \n",
      "0  0.00  0.0  0.0  0.0  0.0  0.0  0.0  \n",
      "1  0.01  0.0  0.0  0.0  0.0  0.0  0.0  \n",
      "2  0.03  0.0  0.0  0.0  0.0  0.0  0.0  \n",
      "\n",
      "[3 rows x 41 columns]\n"
     ]
    }
   ],
   "source": [
    "kddCupTest = pd.read_csv('kddCupTest.csv', header=None)\n",
    "print(kddCupTest.head(3))"
   ]
  },
  {
   "cell_type": "code",
   "execution_count": 47,
   "metadata": {},
   "outputs": [
    {
     "data": {
      "text/plain": [
       "Int64Index([ 0,  1,  2,  3,  4,  5,  6,  7,  8,  9, 10, 11, 12, 13, 14, 15, 16,\n",
       "            17, 18, 19, 20, 21, 22, 23, 24, 25, 26, 27, 28, 29, 30, 31, 32, 33,\n",
       "            34, 35, 36, 37, 38, 39, 40],\n",
       "           dtype='int64')"
      ]
     },
     "execution_count": 47,
     "metadata": {},
     "output_type": "execute_result"
    }
   ],
   "source": [
    "kddCupTest.columns"
   ]
  },
  {
   "cell_type": "code",
   "execution_count": 48,
   "metadata": {},
   "outputs": [
    {
     "data": {
      "text/plain": [
       "(196557, 41)"
      ]
     },
     "execution_count": 48,
     "metadata": {},
     "output_type": "execute_result"
    }
   ],
   "source": [
    "kddCupTest.shape"
   ]
  },
  {
   "cell_type": "code",
   "execution_count": 49,
   "metadata": {},
   "outputs": [
    {
     "data": {
      "text/plain": [
       "(196557, 39)"
      ]
     },
     "execution_count": 49,
     "metadata": {},
     "output_type": "execute_result"
    }
   ],
   "source": [
    "##removing the uninformative columns as we did before for the training data set\n",
    "kddCupTest.drop(columnsList, axis=1, inplace=True)\n",
    "kddCupTest.shape"
   ]
  },
  {
   "cell_type": "code",
   "execution_count": 50,
   "metadata": {},
   "outputs": [
    {
     "data": {
      "text/plain": [
       "(196557, 106)"
      ]
     },
     "execution_count": 50,
     "metadata": {},
     "output_type": "execute_result"
    }
   ],
   "source": [
    "kddCupTest = pd.get_dummies(kddCupTest, columns = [1,2,3])\n",
    "kddCupTest.head(2)\n",
    "kddCupTest.shape"
   ]
  },
  {
   "cell_type": "code",
   "execution_count": 51,
   "metadata": {},
   "outputs": [
    {
     "data": {
      "text/plain": [
       "81"
      ]
     },
     "execution_count": 51,
     "metadata": {},
     "output_type": "execute_result"
    }
   ],
   "source": [
    "len(featuresList)"
   ]
  },
  {
   "cell_type": "code",
   "execution_count": 52,
   "metadata": {
    "collapsed": true
   },
   "outputs": [],
   "source": [
    "kddCupTest = kddCupTest[featuresList]"
   ]
  },
  {
   "cell_type": "code",
   "execution_count": 53,
   "metadata": {},
   "outputs": [],
   "source": [
    "#we dont need to create the feature list column again.\n",
    "#featuresList = [col for col in kddCupTrain if col != 'Class']\n",
    "#print('featuresList: ',featuresList)"
   ]
  },
  {
   "cell_type": "code",
   "execution_count": 54,
   "metadata": {
    "collapsed": true
   },
   "outputs": [],
   "source": [
    "scaler = preprocessing.StandardScaler()\n",
    "scaler.fit(kddCupTest);"
   ]
  },
  {
   "cell_type": "code",
   "execution_count": 55,
   "metadata": {},
   "outputs": [
    {
     "data": {
      "text/plain": [
       "(196557, 81)"
      ]
     },
     "execution_count": 55,
     "metadata": {},
     "output_type": "execute_result"
    }
   ],
   "source": [
    "kddCupTest.shape"
   ]
  },
  {
   "cell_type": "code",
   "execution_count": 56,
   "metadata": {},
   "outputs": [],
   "source": [
    "kddCupTest[featuresList] = scaler.transform(kddCupTest[featuresList])"
   ]
  },
  {
   "cell_type": "code",
   "execution_count": 57,
   "metadata": {},
   "outputs": [
    {
     "data": {
      "text/html": [
       "<div>\n",
       "<style scoped>\n",
       "    .dataframe tbody tr th:only-of-type {\n",
       "        vertical-align: middle;\n",
       "    }\n",
       "\n",
       "    .dataframe tbody tr th {\n",
       "        vertical-align: top;\n",
       "    }\n",
       "\n",
       "    .dataframe thead th {\n",
       "        text-align: right;\n",
       "    }\n",
       "</style>\n",
       "<table border=\"1\" class=\"dataframe\">\n",
       "  <thead>\n",
       "    <tr style=\"text-align: right;\">\n",
       "      <th></th>\n",
       "      <th>0</th>\n",
       "      <th>4</th>\n",
       "      <th>5</th>\n",
       "      <th>6</th>\n",
       "      <th>8</th>\n",
       "      <th>9</th>\n",
       "      <th>10</th>\n",
       "      <th>11</th>\n",
       "      <th>12</th>\n",
       "      <th>13</th>\n",
       "      <th>...</th>\n",
       "      <th>2_whois</th>\n",
       "      <th>3_OTH</th>\n",
       "      <th>3_REJ</th>\n",
       "      <th>3_RSTO</th>\n",
       "      <th>3_RSTR</th>\n",
       "      <th>3_S0</th>\n",
       "      <th>3_S1</th>\n",
       "      <th>3_S2</th>\n",
       "      <th>3_S3</th>\n",
       "      <th>3_SF</th>\n",
       "    </tr>\n",
       "  </thead>\n",
       "  <tbody>\n",
       "    <tr>\n",
       "      <th>0</th>\n",
       "      <td>-0.161814</td>\n",
       "      <td>-0.021112</td>\n",
       "      <td>0.213319</td>\n",
       "      <td>0.0</td>\n",
       "      <td>-0.0034</td>\n",
       "      <td>-0.051868</td>\n",
       "      <td>-0.007121</td>\n",
       "      <td>0.636295</td>\n",
       "      <td>-0.006817</td>\n",
       "      <td>-0.016577</td>\n",
       "      <td>...</td>\n",
       "      <td>-0.002256</td>\n",
       "      <td>-0.003907</td>\n",
       "      <td>-0.262899</td>\n",
       "      <td>-0.025427</td>\n",
       "      <td>-0.017763</td>\n",
       "      <td>-0.032937</td>\n",
       "      <td>-0.024613</td>\n",
       "      <td>-0.01276</td>\n",
       "      <td>-0.007133</td>\n",
       "      <td>0.269105</td>\n",
       "    </tr>\n",
       "    <tr>\n",
       "      <th>1</th>\n",
       "      <td>-0.161814</td>\n",
       "      <td>-0.023648</td>\n",
       "      <td>-0.095420</td>\n",
       "      <td>0.0</td>\n",
       "      <td>-0.0034</td>\n",
       "      <td>-0.051868</td>\n",
       "      <td>-0.007121</td>\n",
       "      <td>-1.571597</td>\n",
       "      <td>-0.006817</td>\n",
       "      <td>-0.016577</td>\n",
       "      <td>...</td>\n",
       "      <td>-0.002256</td>\n",
       "      <td>-0.003907</td>\n",
       "      <td>-0.262899</td>\n",
       "      <td>-0.025427</td>\n",
       "      <td>-0.017763</td>\n",
       "      <td>-0.032937</td>\n",
       "      <td>-0.024613</td>\n",
       "      <td>-0.01276</td>\n",
       "      <td>-0.007133</td>\n",
       "      <td>0.269105</td>\n",
       "    </tr>\n",
       "    <tr>\n",
       "      <th>2</th>\n",
       "      <td>-0.161069</td>\n",
       "      <td>0.012523</td>\n",
       "      <td>-0.088293</td>\n",
       "      <td>0.0</td>\n",
       "      <td>-0.0034</td>\n",
       "      <td>-0.051868</td>\n",
       "      <td>-0.007121</td>\n",
       "      <td>0.636295</td>\n",
       "      <td>-0.006817</td>\n",
       "      <td>-0.016577</td>\n",
       "      <td>...</td>\n",
       "      <td>-0.002256</td>\n",
       "      <td>-0.003907</td>\n",
       "      <td>-0.262899</td>\n",
       "      <td>-0.025427</td>\n",
       "      <td>-0.017763</td>\n",
       "      <td>-0.032937</td>\n",
       "      <td>-0.024613</td>\n",
       "      <td>-0.01276</td>\n",
       "      <td>-0.007133</td>\n",
       "      <td>0.269105</td>\n",
       "    </tr>\n",
       "    <tr>\n",
       "      <th>3</th>\n",
       "      <td>-0.161814</td>\n",
       "      <td>-0.019083</td>\n",
       "      <td>-0.053968</td>\n",
       "      <td>0.0</td>\n",
       "      <td>-0.0034</td>\n",
       "      <td>-0.051868</td>\n",
       "      <td>-0.007121</td>\n",
       "      <td>0.636295</td>\n",
       "      <td>-0.006817</td>\n",
       "      <td>-0.016577</td>\n",
       "      <td>...</td>\n",
       "      <td>-0.002256</td>\n",
       "      <td>-0.003907</td>\n",
       "      <td>-0.262899</td>\n",
       "      <td>-0.025427</td>\n",
       "      <td>-0.017763</td>\n",
       "      <td>-0.032937</td>\n",
       "      <td>-0.024613</td>\n",
       "      <td>-0.01276</td>\n",
       "      <td>-0.007133</td>\n",
       "      <td>0.269105</td>\n",
       "    </tr>\n",
       "    <tr>\n",
       "      <th>4</th>\n",
       "      <td>1.794381</td>\n",
       "      <td>-0.022816</td>\n",
       "      <td>-0.096664</td>\n",
       "      <td>0.0</td>\n",
       "      <td>-0.0034</td>\n",
       "      <td>-0.051868</td>\n",
       "      <td>-0.007121</td>\n",
       "      <td>-1.571597</td>\n",
       "      <td>-0.006817</td>\n",
       "      <td>-0.016577</td>\n",
       "      <td>...</td>\n",
       "      <td>-0.002256</td>\n",
       "      <td>-0.003907</td>\n",
       "      <td>-0.262899</td>\n",
       "      <td>-0.025427</td>\n",
       "      <td>-0.017763</td>\n",
       "      <td>-0.032937</td>\n",
       "      <td>-0.024613</td>\n",
       "      <td>-0.01276</td>\n",
       "      <td>-0.007133</td>\n",
       "      <td>0.269105</td>\n",
       "    </tr>\n",
       "  </tbody>\n",
       "</table>\n",
       "<p>5 rows × 81 columns</p>\n",
       "</div>"
      ],
      "text/plain": [
       "          0         4         5    6       8         9        10        11  \\\n",
       "0 -0.161814 -0.021112  0.213319  0.0 -0.0034 -0.051868 -0.007121  0.636295   \n",
       "1 -0.161814 -0.023648 -0.095420  0.0 -0.0034 -0.051868 -0.007121 -1.571597   \n",
       "2 -0.161069  0.012523 -0.088293  0.0 -0.0034 -0.051868 -0.007121  0.636295   \n",
       "3 -0.161814 -0.019083 -0.053968  0.0 -0.0034 -0.051868 -0.007121  0.636295   \n",
       "4  1.794381 -0.022816 -0.096664  0.0 -0.0034 -0.051868 -0.007121 -1.571597   \n",
       "\n",
       "         12        13    ...      2_whois     3_OTH     3_REJ    3_RSTO  \\\n",
       "0 -0.006817 -0.016577    ...    -0.002256 -0.003907 -0.262899 -0.025427   \n",
       "1 -0.006817 -0.016577    ...    -0.002256 -0.003907 -0.262899 -0.025427   \n",
       "2 -0.006817 -0.016577    ...    -0.002256 -0.003907 -0.262899 -0.025427   \n",
       "3 -0.006817 -0.016577    ...    -0.002256 -0.003907 -0.262899 -0.025427   \n",
       "4 -0.006817 -0.016577    ...    -0.002256 -0.003907 -0.262899 -0.025427   \n",
       "\n",
       "     3_RSTR      3_S0      3_S1     3_S2      3_S3      3_SF  \n",
       "0 -0.017763 -0.032937 -0.024613 -0.01276 -0.007133  0.269105  \n",
       "1 -0.017763 -0.032937 -0.024613 -0.01276 -0.007133  0.269105  \n",
       "2 -0.017763 -0.032937 -0.024613 -0.01276 -0.007133  0.269105  \n",
       "3 -0.017763 -0.032937 -0.024613 -0.01276 -0.007133  0.269105  \n",
       "4 -0.017763 -0.032937 -0.024613 -0.01276 -0.007133  0.269105  \n",
       "\n",
       "[5 rows x 81 columns]"
      ]
     },
     "execution_count": 57,
     "metadata": {},
     "output_type": "execute_result"
    }
   ],
   "source": [
    "kddCupTest.head()"
   ]
  },
  {
   "cell_type": "code",
   "execution_count": 58,
   "metadata": {},
   "outputs": [
    {
     "data": {
      "text/plain": [
       "array([0.19486959, 0.05494584, 0.00764722, ..., 0.0140365 , 0.00529583,\n",
       "       0.52297427])"
      ]
     },
     "execution_count": 58,
     "metadata": {},
     "output_type": "execute_result"
    }
   ],
   "source": [
    "testMSE"
   ]
  },
  {
   "cell_type": "code",
   "execution_count": 59,
   "metadata": {},
   "outputs": [],
   "source": [
    "testPredictions = autoencoder2.predict(kddCupTest)\n",
    "\n",
    "testMSE = mean_squared_error(kddCupTest.transpose(), testPredictions.transpose(),\n",
    "                              multioutput='raw_values')"
   ]
  },
  {
   "cell_type": "code",
   "execution_count": 60,
   "metadata": {
    "collapsed": true
   },
   "outputs": [],
   "source": [
    "result_df = pd.DataFrame({'reconstruction_error': testMSE})\n",
    "result_df.to_csv('result.csv')"
   ]
  },
  {
   "cell_type": "code",
   "execution_count": 61,
   "metadata": {},
   "outputs": [
    {
     "data": {
      "text/html": [
       "<div>\n",
       "<style scoped>\n",
       "    .dataframe tbody tr th:only-of-type {\n",
       "        vertical-align: middle;\n",
       "    }\n",
       "\n",
       "    .dataframe tbody tr th {\n",
       "        vertical-align: top;\n",
       "    }\n",
       "\n",
       "    .dataframe thead th {\n",
       "        text-align: right;\n",
       "    }\n",
       "</style>\n",
       "<table border=\"1\" class=\"dataframe\">\n",
       "  <thead>\n",
       "    <tr style=\"text-align: right;\">\n",
       "      <th></th>\n",
       "      <th>reconstruction_error</th>\n",
       "    </tr>\n",
       "  </thead>\n",
       "  <tbody>\n",
       "    <tr>\n",
       "      <th>0</th>\n",
       "      <td>0.018970</td>\n",
       "    </tr>\n",
       "    <tr>\n",
       "      <th>1</th>\n",
       "      <td>0.022871</td>\n",
       "    </tr>\n",
       "    <tr>\n",
       "      <th>2</th>\n",
       "      <td>0.024407</td>\n",
       "    </tr>\n",
       "    <tr>\n",
       "      <th>3</th>\n",
       "      <td>0.021150</td>\n",
       "    </tr>\n",
       "    <tr>\n",
       "      <th>4</th>\n",
       "      <td>0.035023</td>\n",
       "    </tr>\n",
       "  </tbody>\n",
       "</table>\n",
       "</div>"
      ],
      "text/plain": [
       "   reconstruction_error\n",
       "0              0.018970\n",
       "1              0.022871\n",
       "2              0.024407\n",
       "3              0.021150\n",
       "4              0.035023"
      ]
     },
     "execution_count": 61,
     "metadata": {},
     "output_type": "execute_result"
    }
   ],
   "source": [
    "result_df.head()\n"
   ]
  },
  {
   "cell_type": "markdown",
   "metadata": {
    "collapsed": true
   },
   "source": [
    "The second model worked perfectly for my evaluation purpose."
   ]
  }
 ],
 "metadata": {
  "kernelspec": {
   "display_name": "Python 3",
   "language": "python",
   "name": "python3"
  },
  "language_info": {
   "codemirror_mode": {
    "name": "ipython",
    "version": 3
   },
   "file_extension": ".py",
   "mimetype": "text/x-python",
   "name": "python",
   "nbconvert_exporter": "python",
   "pygments_lexer": "ipython3",
   "version": "3.6.5"
  }
 },
 "nbformat": 4,
 "nbformat_minor": 2
}
